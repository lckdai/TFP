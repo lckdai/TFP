{
 "cells": [
  {
   "cell_type": "code",
   "execution_count": null,
   "metadata": {},
   "outputs": [],
   "source": []
  },
  {
   "cell_type": "markdown",
   "metadata": {},
   "source": [
    "## Common"
   ]
  },
  {
   "cell_type": "markdown",
   "metadata": {},
   "source": [
    "### Init"
   ]
  },
  {
   "cell_type": "code",
   "execution_count": 1,
   "metadata": {},
   "outputs": [],
   "source": [
    "import numpy as np\n",
    "import pandas as pd\n",
    "import plotly.express as px\n",
    "import re"
   ]
  },
  {
   "cell_type": "markdown",
   "metadata": {},
   "source": [
    "### Import Data"
   ]
  },
  {
   "cell_type": "code",
   "execution_count": 53,
   "metadata": {},
   "outputs": [],
   "source": [
    "#gdp\n",
    "gdp = pd.read_csv('./data/KRGDP_1.csv', skiprows=26, dtype={0:'int'})\n",
    "gdp.columns = ['Year', 'GDP']\n",
    "gdp.set_index('Year', inplace=True)\n",
    "\n",
    "#gdp deflator\n",
    "gdp_deflator = pd.read_csv('./data/KRGDPDeflator.csv', skiprows=26, dtype={0:'int'})\n",
    "gdp_deflator.columns = ['Year', 'GDPDeflator']\n",
    "gdp_deflator.set_index('Year', inplace=True)\n",
    "\n",
    "# Labor Share\n",
    "ls_oecd = pd.read_csv('./data/KRLS_OECD.csv', skiprows=25, dtype={0:'int'})\n",
    "ls_oecd.columns = ['Year', 'LS']\n",
    "ls_oecd.set_index('Year', inplace=True)"
   ]
  },
  {
   "cell_type": "markdown",
   "metadata": {
    "hidden": true
   },
   "source": [
    "### Mainpulate Data"
   ]
  },
  {
   "cell_type": "code",
   "execution_count": 3,
   "metadata": {
    "code_folding": [],
    "hidden": true
   },
   "outputs": [],
   "source": [
    "# UDF: change_colnames unflatten_cols\n",
    "def change_colnames(df, colnames):\n",
    "    df.columns = colnames\n",
    "    return df\n",
    "\n",
    "def unflatten_cols(df: pd.DataFrame, delim: str = \"\"):\n",
    "    \"\"\"Unflatten a single column level into multiple column levels.\n",
    "\n",
    "    Args:\n",
    "        delim: the delimiter to split on to identify the multiple column values.\n",
    "\n",
    "    Returns:\n",
    "        A copy of the dataframe with the new column levels.\n",
    "\n",
    "    \"\"\"\n",
    "    new_cols = pd.MultiIndex.from_tuples([tuple(col.split(delim)) for col in df.columns])\n",
    "    ndf = df.copy()\n",
    "    ndf.columns = new_cols\n",
    "\n",
    "    return ndf\n",
    "\n",
    "def flatten_cols(df: pd.DataFrame, delim: str = \"\"):\n",
    "    \"\"\"Flatten multiple column levels of the DataFrame into a one column level.\n",
    "\n",
    "    Args:\n",
    "        delim: the delimiter between the column values.\n",
    "\n",
    "    Returns:\n",
    "        A copy of the dataframe with the new column names.\n",
    "\n",
    "    \"\"\"\n",
    "    new_cols = [delim.join((col_lev for col_lev in tup if col_lev))\n",
    "                for tup in df.columns.values]\n",
    "    ndf = df.copy()\n",
    "    ndf.columns = new_cols\n",
    "\n",
    "    return ndf"
   ]
  },
  {
   "cell_type": "markdown",
   "metadata": {},
   "source": [
    "## Capital\n",
    "\n",
    "In Hsieh's calculation, captial appears in both primal and dual estimates.  \n",
    "For primal estimation, $\\hat{K}$ is estimated using GFCF data differenctiated by products. \n",
    "$$\\begin{aligned}\n",
    "\\ \\hat{K}_t \\ = & \\ \\sum s_{k,j}\\hat{K}_{j,t}\\\\\n",
    "where:\\\\\n",
    "\\ \\hat{K}_{j,t} \\ = & \\ I_{j,t} + K_{j,t-1}*(1-\\delta_j)\\\\\n",
    "\\ K_{1993} \\ = & \\ \\frac{I_{j,1993}}{g_j + \\delta_j}\\\\\n",
    "\\ s_{k,j} \\ = & \\ \\frac{r_j*K_j}{\\sum r_j*K_j} \\\\\n",
    "\\ \\frac{r_j}{p} \\ = & \\ \\frac{p_j^k}{p}(i-\\hat{p}_k+\\delta_j) \\\\\n",
    "\\end{aligned}$$\n",
    "\n",
    "$I_j$: Real investment in capital $j$  \n",
    "$\\delta_j$ : depreciation of capital $j$  \n",
    "$g_j$: average growth in $I_j$ in the past 5 years"
   ]
  },
  {
   "cell_type": "markdown",
   "metadata": {},
   "source": [
    "### Import Data"
   ]
  },
  {
   "cell_type": "code",
   "execution_count": 4,
   "metadata": {
    "code_folding": []
   },
   "outputs": [],
   "source": [
    "#Capital Breakdown\n",
    "gfcf = pd.read_csv('./data/KRGFCF_breakdown.csv', index_col=[0]).dropna()\n",
    "gfcf_real = pd.read_csv('./data/KRGFCF_breakdown_real.csv', index_col=[0]).dropna()"
   ]
  },
  {
   "cell_type": "code",
   "execution_count": 5,
   "metadata": {
    "code_folding": []
   },
   "outputs": [],
   "source": [
    "#Gross Capital\n",
    "gfcf_all = pd.read_csv('./data/KRGFCF.csv', skiprows=25, dtype={0:'int'})\n",
    "gfcf_all.columns = ['Year', 'GFCF']\n",
    "gfcf_all = gfcf_all.set_index('Year')\n",
    "\n",
    "gfcf_all_real = pd.read_csv('./data/KRGFCF_real.csv', skiprows=25, dtype={0:'int'})\n",
    "gfcf_all_real.columns = ['Year', 'GFCFReal']\n",
    "gfcf_all_real = gfcf_all_real.set_index('Year')"
   ]
  },
  {
   "cell_type": "code",
   "execution_count": 6,
   "metadata": {
    "code_folding": []
   },
   "outputs": [],
   "source": [
    "#Discount Rate\n",
    "discount_rate = pd.read_csv('./data/KRDiscountRate.csv')\n",
    "discount_rate.columns =['date', 'DiscountRate']"
   ]
  },
  {
   "cell_type": "markdown",
   "metadata": {},
   "source": [
    "### Tidy Data"
   ]
  },
  {
   "cell_type": "code",
   "execution_count": 7,
   "metadata": {
    "code_folding": []
   },
   "outputs": [],
   "source": [
    "# unflatten colnames and set index\n",
    "gfcf_real =\\\n",
    "(gfcf_real\n",
    " .rename(columns=lambda x: x.replace(\"GDP: 2015p: sa: GFCF: \", \"\").replace(\" \", \"\"))\n",
    " .drop(['Construction(CS)', 'CS:Buildings', 'FacilitiesInvestment(FI)', 'IntellectualPropertyProducts(IPP)'], axis=1)\n",
    " .pipe(unflatten_cols, \":\")\n",
    " .T\n",
    " .reset_index()\n",
    " .assign(level_2=lambda x: x.level_2.mask(lambda x: x.isna(), x.level_1))\n",
    " .set_index(['level_0', 'level_1', 'level_2'])\n",
    " .T\n",
    " .rename_axis(['Category', 'SubCategory1','SubCategory2'], axis=1)\n",
    " .rename_axis('Year', axis=0)\n",
    " #filter\n",
    " .loc[:,'CS':'FI']\n",
    " .droplevel(['Category', 'SubCategory1',], axis=1)\n",
    ")\n",
    "\n",
    "\n",
    "gfcf =\\\n",
    "(gfcf\n",
    " .rename(columns=lambda x: x.replace(\"GDP: sa: GFCF: \", \"\").replace(\" \", \"\"))\n",
    " .drop(['Construction(CS)', 'CS:Buildings', 'FacilitiesInvestment(FI)', 'IntellectualPropertyProducts(IPP)'], axis=1)\n",
    " .pipe(unflatten_cols, \":\")\n",
    "  .T\n",
    " .reset_index()\n",
    " .assign(level_2=lambda x: x.level_2.mask(lambda y: y.isna(), x.level_1))\n",
    " .set_index(['level_0', 'level_1', 'level_2'])\n",
    " .T\n",
    " .rename_axis(['Category', 'SubCategory1','SubCategory2'], axis=1)\n",
    " .rename_axis('Year', axis=0)\n",
    " #filter\n",
    " .loc[:,'CS':'FI']\n",
    " .droplevel(['Category', 'SubCategory1',], axis=1)\n",
    ")"
   ]
  },
  {
   "cell_type": "code",
   "execution_count": 8,
   "metadata": {
    "code_folding": []
   },
   "outputs": [],
   "source": [
    "# discount Rate\n",
    "discount_rate =\\\n",
    "(discount_rate\n",
    " .assign(date=lambda x: pd.to_datetime(x.date))\n",
    " .assign(year=lambda x: x.date.dt.year,\n",
    "         month=lambda x: x.date.dt.month)\n",
    " .query('month==12')\n",
    " .set_index('year')\n",
    " .rename_axis('Year', axis=0)\n",
    " ['DiscountRate']\n",
    " .apply(lambda x: x/100)\n",
    ")"
   ]
  },
  {
   "cell_type": "code",
   "execution_count": 9,
   "metadata": {
    "code_folding": []
   },
   "outputs": [],
   "source": [
    "# Depreciation Rate\n",
    "gfcf_delta = pd.Series(index=gfcf.T.index, data=[0.013, 0.029, 0.021, 0.182, 0.138])\n",
    "gfcf_delta.name = 'Depreciation'"
   ]
  },
  {
   "cell_type": "markdown",
   "metadata": {},
   "source": [
    "### Transform Data"
   ]
  },
  {
   "cell_type": "code",
   "execution_count": 10,
   "metadata": {
    "code_folding": []
   },
   "outputs": [],
   "source": [
    "#Capital Stock:First 5 year growth\n",
    "gfcf_g =\\\n",
    "(gfcf_real\n",
    " .query('Year >= 1987 & Year <= 1992')\n",
    " .pct_change()\n",
    " .mean()\n",
    ")"
   ]
  },
  {
   "cell_type": "code",
   "execution_count": 11,
   "metadata": {
    "code_folding": []
   },
   "outputs": [],
   "source": [
    "#real capital stock\n",
    "gfcf_stock =\\\n",
    "(pd.DataFrame(gfcf_real.xs(1992)/(gfcf_g+gfcf_delta))\n",
    " .T\n",
    " .set_index([pd.Index([1992])], 'int')\n",
    " .rename_axis('Year', axis=0)\n",
    ")\n",
    "\n",
    "for year in np.arange(1993, 2019):\n",
    "    year_stock = gfcf_real.xs(year) + gfcf_stock.xs(year-1)*(1-gfcf_delta)\n",
    "\n",
    "    year_stock.name=year\n",
    "\n",
    "    gfcf_stock = gfcf_stock.append(year_stock)\n",
    "\n",
    "# real capital stock growth\n",
    "gfcf_stock_growth = gfcf_stock.pct_change()"
   ]
  },
  {
   "cell_type": "code",
   "execution_count": 12,
   "metadata": {
    "code_folding": []
   },
   "outputs": [],
   "source": [
    "#RealRent: Prepare Vars\n",
    "# Capital Inflation\n",
    "pk_hat = (gfcf_all['GFCF']/gfcf_all_real['GFCFReal']).pct_change()\n",
    "pk_hat.name = 'CapitalInflation'\n",
    "\n",
    "#gfcf_deflactor\n",
    "gfcf_deflactor = \\\n",
    "((gfcf/gfcf_real*100)\n",
    " .stack()\n",
    " .to_frame()\n",
    " .rename(columns={0:'GFCFDeflator'})\n",
    ")"
   ]
  },
  {
   "cell_type": "code",
   "execution_count": 13,
   "metadata": {
    "code_folding": []
   },
   "outputs": [],
   "source": [
    "#Real Rent\n",
    "gfcf_rent =\\\n",
    "(gfcf_deflactor\n",
    " .join(gdp_deflator)\n",
    " .assign(RelativePrice=lambda x: x.GFCFDeflator/x.GDPDeflator)\n",
    " .join(discount_rate)\n",
    " .join(pk_hat)\n",
    " .join(gfcf_delta)\n",
    " .assign(RealRent=lambda x: x.RelativePrice*(x.DiscountRate - x.CapitalInflation + x.Depreciation))\n",
    " .query('Year >= 1992')\n",
    " ['RealRent']\n",
    ")"
   ]
  },
  {
   "cell_type": "code",
   "execution_count": 14,
   "metadata": {
    "code_folding": []
   },
   "outputs": [],
   "source": [
    "# Share\n",
    "def get_gfcf_share(df):\n",
    "    \n",
    "    year_sum = df.groupby('Year')['TotalRent'].sum()\n",
    "    \n",
    "    df = df.assign(Share=lambda x: x.TotalRent/year_sum)\n",
    "    \n",
    "    return df\n",
    "\n",
    "gfcf_share =\\\n",
    "(pd.concat([gfcf_stock.stack(),  gfcf_rent], axis=1)\n",
    " .rename(columns={0:'Stock'})\n",
    " .assign(TotalRent=lambda x: x.Stock * x.RealRent)\n",
    " .pipe(get_gfcf_share)\n",
    " ['Share']\n",
    ")\n",
    "\n",
    "gfcf_share_avg = gfcf_share.groupby('SubCategory2').mean()"
   ]
  },
  {
   "cell_type": "markdown",
   "metadata": {},
   "source": [
    "#### $\\hat{K}$"
   ]
  },
  {
   "cell_type": "code",
   "execution_count": 15,
   "metadata": {},
   "outputs": [],
   "source": [
    "gfcf_stock_growth = (gfcf_stock.stack().groupby('SubCategory2').pct_change())\n",
    "\n",
    "wkc =\\\n",
    "(gfcf_stock_growth.to_frame().join(gfcf_share_avg)\n",
    " .rename(columns={0:'CapitalStockGrowth'})\n",
    " .assign(wK_hat=lambda x: x.CapitalStockGrowth * x.Share)\n",
    " .groupby('Year')\n",
    " ['wK_hat']\n",
    " .sum()\n",
    ")"
   ]
  },
  {
   "cell_type": "markdown",
   "metadata": {},
   "source": [
    "#### $\\hat{r}$"
   ]
  },
  {
   "cell_type": "code",
   "execution_count": 16,
   "metadata": {},
   "outputs": [],
   "source": [
    "gfcf_rent_growth = gfcf_rent.groupby('SubCategory2').pct_change()\n",
    "gfcf_rent_growth.name = 'RealRentGrowth'\n",
    "\n",
    "wrc = \\\n",
    "(gfcf_rent_growth.to_frame().join(gfcf_share_avg)\n",
    " .assign(wr_hat=lambda x: x.RealRentGrowth*x.Share)\n",
    " .groupby('Year')\n",
    " ['wr_hat']\n",
    " .sum()\n",
    ")"
   ]
  },
  {
   "cell_type": "markdown",
   "metadata": {},
   "source": [
    "## Labor"
   ]
  },
  {
   "cell_type": "markdown",
   "metadata": {},
   "source": [
    "### Import Data"
   ]
  },
  {
   "cell_type": "code",
   "execution_count": 17,
   "metadata": {
    "code_folding": []
   },
   "outputs": [],
   "source": [
    "# labor\n",
    "labor93 = pd.read_csv(\"./data/KRLabor1.csv\", index_col=list(range(0,6)), header=([0]))\n",
    "labor00 = pd.read_csv(\"./data/KRLabor2.csv\", index_col=list(range(0,6)), header=([0]))\n",
    "labor09 = pd.read_csv(\"./data/KRLabor3.csv\", index_col=list(range(0,6)), header=([0]))"
   ]
  },
  {
   "cell_type": "markdown",
   "metadata": {},
   "source": [
    "### Tidy Data"
   ]
  },
  {
   "cell_type": "code",
   "execution_count": 18,
   "metadata": {
    "code_folding": []
   },
   "outputs": [],
   "source": [
    "# columns and format\n",
    "def common_labor_tidy(df):\n",
    "    df =\\\n",
    "    (df\n",
    "     # tidy row and format\n",
    "     .rename(columns=lambda x: re.sub('[^0-9]', \"\", x))\n",
    "     .droplevel('UNIT')\n",
    "     .unstack('Item')\n",
    "     .reorder_levels([1,0], axis=1)\n",
    "     .sort_index(axis=1)\n",
    "     .rename_axis(['Item', 'Year'], axis=1)\n",
    "     .stack('Year')\n",
    "     .rename(columns=lambda x: x.replace(\" \", \"\"))\n",
    "     .reorder_levels([4,0,1,2,3])\n",
    "     .sort_index(0)\n",
    "     \n",
    "     # tidy data\n",
    "     .replace(\"-\", np.NaN)\n",
    "     .astype('float')\n",
    "    )\n",
    "    \n",
    "    df.index = df.index.set_levels(df.index.levels[0].astype('int'), level=0)\n",
    "    \n",
    "    return df"
   ]
  },
  {
   "cell_type": "code",
   "execution_count": 19,
   "metadata": {
    "code_folding": [
     0
    ]
   },
   "outputs": [],
   "source": [
    "# tidy frames: 93, 00, 09\n",
    "labor93 = \\\n",
    "(labor93\n",
    " .pipe(common_labor_tidy)\n",
    ")\n",
    "\n",
    "labor00 =\\\n",
    "(labor00\n",
    " .pipe(common_labor_tidy)\n",
    "\n",
    ")\n",
    "\n",
    "labor09 =\\\n",
    "(labor09\n",
    " .pipe(common_labor_tidy)\n",
    " .pipe(change_colnames, ['Employment', 'Totalhoursworked', 'MonthlyTotalwage',])\n",
    " .rename_axis(index={'INDUSTRY_9S':'Industry'})\n",
    " # 09 data Monthly wage is 1/10000 of last 2 reports\n",
    " .assign(MonthlyTotalwage=lambda x: x.MonthlyTotalwage*1000)\n",
    ")"
   ]
  },
  {
   "cell_type": "code",
   "execution_count": 20,
   "metadata": {
    "code_folding": [
     0
    ]
   },
   "outputs": [],
   "source": [
    "# bind labor dfs\n",
    "\n",
    "labor = pd.concat([labor93, labor00, labor09], axis=0).sort_index()"
   ]
  },
  {
   "cell_type": "markdown",
   "metadata": {},
   "source": [
    "### Transform Data"
   ]
  },
  {
   "cell_type": "code",
   "execution_count": 21,
   "metadata": {
    "code_folding": []
   },
   "outputs": [],
   "source": [
    "# New Cols and Aggregated\n",
    "# Columns: W: Hourly Wage, H: Man Hours Worked, TW: Total Wage Earned, i.e. labor cost.\n",
    "# Aggregate: by 'Education', 'Sex', 'Age', 'Year'\n",
    "labor_agg =\\\n",
    "(labor\n",
    " #filter\n",
    "#  .query('Industry != \"Agriculture,hunting and forestry(01-02)\" &\\\n",
    "#          Industry != \"Fishing(05)\" &\\\n",
    "#          Industry != \"Agriculture, forestry and fishing\"')\n",
    " .query('Industry == \"Mining and quarrying(10-14)\" | Industry == \"Mining and quarrying\"')\n",
    " #mutate\n",
    " .assign(W=lambda x: round(x.MonthlyTotalwage, 0)/x.Totalhoursworked,\n",
    "         H=lambda x: x.Employment*x.Totalhoursworked)\n",
    " #aggregate\n",
    " .groupby(['Education', 'Sex', 'Age', 'Year'])\n",
    " .agg({'W':'mean',\n",
    "       'H': 'sum'})\n",
    " .assign(TW=lambda x: x.W*x.H)\n",
    ")"
   ]
  },
  {
   "cell_type": "code",
   "execution_count": 22,
   "metadata": {
    "code_folding": []
   },
   "outputs": [],
   "source": [
    "# New Variables: Weight, GDPDeflaor\n",
    "tw_yr =\\\n",
    "(labor_agg\n",
    " .groupby('Year')\n",
    " ['TW']\n",
    " .sum()\n",
    ")\n",
    "\n",
    "\n",
    "\n",
    "labor_agg =\\\n",
    "(labor_agg\n",
    " .assign(Share=lambda x: x.TW/tw_yr)\n",
    " .join(gdp_deflator)\n",
    ")"
   ]
  },
  {
   "cell_type": "code",
   "execution_count": 23,
   "metadata": {
    "code_folding": []
   },
   "outputs": [],
   "source": [
    "# Growth in Variables\n",
    "labor_agg_hat=\\\n",
    "(labor_agg\n",
    " .groupby(['Education', 'Sex', 'Age'])\n",
    " [['W', 'H', 'TW', 'GDPDeflator']]\n",
    " .pct_change()\n",
    " .rename(columns=lambda x: x + \"_hat\")\n",
    ")\n",
    "\n",
    "labor_agg =\\\n",
    "(labor_agg\n",
    " .join(labor_agg_hat)\n",
    ")"
   ]
  },
  {
   "cell_type": "code",
   "execution_count": 24,
   "metadata": {
    "code_folding": []
   },
   "outputs": [],
   "source": [
    "# Weighted Wage Change and Weighted Labor Change\n",
    "\n",
    "labor_agg =\\\n",
    "(labor_agg\n",
    " .assign(w_hat=lambda x: (1+x.W_hat)/(1+x.GDPDeflator_hat)-1)\n",
    " .assign(ww_hat=lambda x: x.Share*x.w_hat)\n",
    " .assign(wH_hat=lambda x: x.Share*x.H_hat)\n",
    " .replace(np.inf, np.NaN)\n",
    ")\n",
    "\n",
    "\n",
    "wwc =\\\n",
    "(labor_agg\n",
    " .groupby('Year')\n",
    " ['ww_hat']\n",
    " .sum()\n",
    " .drop(2009)\n",
    " .replace(np.inf, np.NaN)\n",
    ")\n",
    "\n",
    "whc =\\\n",
    "(labor_agg\n",
    " .groupby('Year')\n",
    " ['wH_hat']\n",
    " .sum()\n",
    " .drop(2009)\n",
    ")"
   ]
  },
  {
   "cell_type": "code",
   "execution_count": null,
   "metadata": {},
   "outputs": [],
   "source": []
  },
  {
   "cell_type": "code",
   "execution_count": 25,
   "metadata": {},
   "outputs": [],
   "source": [
    "import numpy as np\n",
    "import pandas as pd"
   ]
  },
  {
   "cell_type": "markdown",
   "metadata": {},
   "source": [
    "## Primal"
   ]
  },
  {
   "cell_type": "code",
   "execution_count": 56,
   "metadata": {},
   "outputs": [],
   "source": [
    "# Y hat\n",
    "yhat =\\\n",
    "(gdp.pct_change()['GDP'] -\n",
    " gdp_deflator.pct_change()['GDPDeflator']\n",
    ")\n",
    "\n",
    "yhat.name = 'y_hat'"
   ]
  },
  {
   "cell_type": "code",
   "execution_count": 59,
   "metadata": {},
   "outputs": [],
   "source": [
    "primal =\\\n",
    "(pd.concat([whc,wkc,ls_oecd, yhat], axis=1, join='inner')\n",
    " .assign(LS=lambda x: x.LS/100,\n",
    "         KS=lambda x: 1-x.LS )\n",
    " .assign(Primal=lambda x: x.y_hat - x.KS*x.wK_hat - x.LS*x.wH_hat)\n",
    ")"
   ]
  },
  {
   "cell_type": "code",
   "execution_count": 63,
   "metadata": {},
   "outputs": [
    {
     "data": {
      "application/vnd.plotly.v1+json": {
       "config": {
        "plotlyServerURL": "https://plot.ly"
       },
       "data": [
        {
         "hovertemplate": "variable=wH_hat<br>Year=%{x}<br>value=%{y}<extra></extra>",
         "legendgroup": "wH_hat",
         "marker": {
          "color": "#636efa",
          "symbol": "circle"
         },
         "mode": "markers",
         "name": "wH_hat",
         "orientation": "v",
         "showlegend": true,
         "type": "scatter",
         "x": [
          1993,
          1994,
          1995,
          1996,
          1997,
          1998,
          1999,
          2000,
          2001,
          2002,
          2003,
          2004,
          2005,
          2006,
          2007,
          2008,
          2010,
          2011,
          2012,
          2013,
          2014,
          2015,
          2016,
          2017,
          2018
         ],
         "xaxis": "x",
         "y": [
          0,
          -0.06313884623549249,
          0.046851590641591334,
          -0.027864215796280126,
          -0.053636732100215474,
          -0.08762698506171497,
          0.485398717885583,
          0.10194080446238224,
          -0.042773927841569394,
          0.05828968314878625,
          0.049413793866799206,
          0.4533205516938448,
          -0.29028757881039846,
          0.07358128231783731,
          0.09118230309358784,
          0.6693262965068261,
          0.0052671663551580985,
          -0.024596776115205148,
          -0.012435376366284653,
          -0.07615734277873902,
          0.13772841264077385,
          0.11554442903442616,
          0.03624246342370761,
          0.08903206756782792,
          -0.03936291274630996
         ],
         "yaxis": "y"
        },
        {
         "hovertemplate": "<b>OLS trendline</b><br>value = 0.0011917 * Year + -2.32197<br>R<sup>2</sup>=0.002150<br><br>variable=wH_hat<br>Year=%{x}<br>value=%{y} <b>(trend)</b><extra></extra>",
         "legendgroup": "wH_hat",
         "marker": {
          "color": "#636efa",
          "symbol": "circle"
         },
         "mode": "lines",
         "name": "wH_hat",
         "showlegend": false,
         "type": "scatter",
         "x": [
          1993,
          1994,
          1995,
          1996,
          1997,
          1998,
          1999,
          2000,
          2001,
          2002,
          2003,
          2004,
          2005,
          2006,
          2007,
          2008,
          2010,
          2011,
          2012,
          2013,
          2014,
          2015,
          2016,
          2017,
          2018
         ],
         "xaxis": "x",
         "y": [
          0.05308016894299916,
          0.05427186682394414,
          0.05546356470488911,
          0.05665526258583409,
          0.05784696046677862,
          0.059038658347723594,
          0.06023035622866857,
          0.061422054109613544,
          0.06261375199055852,
          0.06380544987150305,
          0.06499714775244803,
          0.066188845633393,
          0.06738054351433798,
          0.06857224139528251,
          0.06976393927622748,
          0.07095563715717246,
          0.07333903291906241,
          0.07453073080000694,
          0.07572242868095191,
          0.07691412656189689,
          0.07810582444284186,
          0.0792975223237864,
          0.08048922020473137,
          0.08168091808567635,
          0.08287261596662132
         ],
         "yaxis": "y"
        },
        {
         "hovertemplate": "variable=wK_hat<br>Year=%{x}<br>value=%{y}<extra></extra>",
         "legendgroup": "wK_hat",
         "marker": {
          "color": "#EF553B",
          "symbol": "circle"
         },
         "mode": "markers",
         "name": "wK_hat",
         "orientation": "v",
         "showlegend": true,
         "type": "scatter",
         "x": [
          1993,
          1994,
          1995,
          1996,
          1997,
          1998,
          1999,
          2000,
          2001,
          2002,
          2003,
          2004,
          2005,
          2006,
          2007,
          2008,
          2010,
          2011,
          2012,
          2013,
          2014,
          2015,
          2016,
          2017,
          2018
         ],
         "xaxis": "x",
         "y": [
          0.1403849422382544,
          0.16651036936738195,
          0.16000224015777942,
          0.14419315573763686,
          0.09351969312147597,
          0.0023240764587415235,
          0.04151792821059006,
          0.08527159805189471,
          0.05549181835314737,
          0.05979175951545253,
          0.05085925999057563,
          0.0457404709072383,
          0.04257017198080244,
          0.050159489403922015,
          0.05880261965557118,
          0.04927902515061493,
          0.055732418877543946,
          0.05440445187263606,
          0.04546540828497607,
          0.03309048737252439,
          0.03560932503158028,
          0.03753224465407373,
          0.036550536663007435,
          0.052317501627955273,
          0.03979494177789525
         ],
         "yaxis": "y"
        },
        {
         "hovertemplate": "<b>OLS trendline</b><br>value = -0.00361805 * Year + 7.32096<br>R<sup>2</sup>=0.436253<br><br>variable=wK_hat<br>Year=%{x}<br>value=%{y} <b>(trend)</b><extra></extra>",
         "legendgroup": "wK_hat",
         "marker": {
          "color": "#EF553B",
          "symbol": "circle"
         },
         "mode": "lines",
         "name": "wK_hat",
         "showlegend": false,
         "type": "scatter",
         "x": [
          1993,
          1994,
          1995,
          1996,
          1997,
          1998,
          1999,
          2000,
          2001,
          2002,
          2003,
          2004,
          2005,
          2006,
          2007,
          2008,
          2010,
          2011,
          2012,
          2013,
          2014,
          2015,
          2016,
          2017,
          2018
         ],
         "xaxis": "x",
         "y": [
          0.11019568439187122,
          0.10657763851700519,
          0.10295959264213916,
          0.09934154676727402,
          0.095723500892408,
          0.09210545501754286,
          0.08848740914267683,
          0.0848693632678108,
          0.08125131739294567,
          0.07763327151807964,
          0.0740152256432145,
          0.07039717976834847,
          0.06677913389348245,
          0.0631610880186173,
          0.05954304214375128,
          0.05592499626888525,
          0.048688904519154086,
          0.04507085864428895,
          0.04145281276942292,
          0.03783476689455689,
          0.034216721019691754,
          0.030598675144825727,
          0.026980629269960588,
          0.02336258339509456,
          0.019744537520228533
         ],
         "yaxis": "y"
        },
        {
         "hovertemplate": "variable=LS<br>Year=%{x}<br>value=%{y}<extra></extra>",
         "legendgroup": "LS",
         "marker": {
          "color": "#00cc96",
          "symbol": "circle"
         },
         "mode": "markers",
         "name": "LS",
         "orientation": "v",
         "showlegend": true,
         "type": "scatter",
         "x": [
          1993,
          1994,
          1995,
          1996,
          1997,
          1998,
          1999,
          2000,
          2001,
          2002,
          2003,
          2004,
          2005,
          2006,
          2007,
          2008,
          2010,
          2011,
          2012,
          2013,
          2014,
          2015,
          2016,
          2017,
          2018
         ],
         "xaxis": "x",
         "y": [
          0.80138407,
          0.80119851,
          0.8085174399999999,
          0.8086562099999999,
          0.7948125,
          0.7624517800000001,
          0.7450226500000001,
          0.7506958,
          0.7489343700000001,
          0.7528324200000001,
          0.74217086,
          0.73403779,
          0.72992048,
          0.7434608500000001,
          0.7445330099999999,
          0.74324375,
          0.7146944999999999,
          0.68636889,
          0.67513821,
          0.67010995,
          0.66623343,
          0.67500253,
          0.68378186,
          0.68567149,
          0.68658697
         ],
         "yaxis": "y"
        },
        {
         "hovertemplate": "<b>OLS trendline</b><br>value = -0.00560819 * Year + 11.9807<br>R<sup>2</sup>=0.887060<br><br>variable=LS<br>Year=%{x}<br>value=%{y} <b>(trend)</b><extra></extra>",
         "legendgroup": "LS",
         "marker": {
          "color": "#00cc96",
          "symbol": "circle"
         },
         "mode": "lines",
         "name": "LS",
         "showlegend": false,
         "type": "scatter",
         "x": [
          1993,
          1994,
          1995,
          1996,
          1997,
          1998,
          1999,
          2000,
          2001,
          2002,
          2003,
          2004,
          2005,
          2006,
          2007,
          2008,
          2010,
          2011,
          2012,
          2013,
          2014,
          2015,
          2016,
          2017,
          2018
         ],
         "xaxis": "x",
         "y": [
          0.8035355932932564,
          0.79792740716921,
          0.7923192210451617,
          0.7867110349211135,
          0.7811028487970653,
          0.775494662673017,
          0.7698864765489688,
          0.7642782904249206,
          0.7586701043008723,
          0.7530619181768241,
          0.7474537320527759,
          0.7418455459287294,
          0.7362373598046812,
          0.730629173680633,
          0.7250209875565847,
          0.7194128014325365,
          0.70819642918444,
          0.7025882430603918,
          0.6969800569363436,
          0.6913718708122953,
          0.6857636846882489,
          0.6801554985642007,
          0.6745473124401524,
          0.6689391263161042,
          0.663330940192056
         ],
         "yaxis": "y"
        },
        {
         "hovertemplate": "variable=y_hat<br>Year=%{x}<br>value=%{y}<extra></extra>",
         "legendgroup": "y_hat",
         "marker": {
          "color": "#ab63fa",
          "symbol": "circle"
         },
         "mode": "markers",
         "name": "y_hat",
         "orientation": "v",
         "showlegend": true,
         "type": "scatter",
         "x": [
          1993,
          1994,
          1995,
          1996,
          1997,
          1998,
          1999,
          2000,
          2001,
          2002,
          2003,
          2004,
          2005,
          2006,
          2007,
          2008,
          2010,
          2011,
          2012,
          2013,
          2014,
          2015,
          2016,
          2017,
          2018
         ],
         "xaxis": "x",
         "y": [
          0.07312552198292122,
          0.10036259244075296,
          0.10268154582462174,
          0.0818243023086127,
          0.06471714061445977,
          -0.05529131247379382,
          0.11439598147312269,
          0.0913315855919179,
          0.049960532608897656,
          0.0798805749243654,
          0.032622222406635704,
          0.05360618896597091,
          0.04340205358601312,
          0.0526252839658885,
          0.05956842191772904,
          0.031003150359196097,
          0.06982699920533353,
          0.03737991717086042,
          0.023997507483940916,
          0.03193750462639677,
          0.03231098712047675,
          0.028900115599489018,
          0.030116369337235938,
          0.03239467867127743,
          0.029061259344506762
         ],
         "yaxis": "y"
        },
        {
         "hovertemplate": "<b>OLS trendline</b><br>value = -0.00214004 * Year + 4.34322<br>R<sup>2</sup>=0.228046<br><br>variable=y_hat<br>Year=%{x}<br>value=%{y} <b>(trend)</b><extra></extra>",
         "legendgroup": "y_hat",
         "marker": {
          "color": "#ab63fa",
          "symbol": "circle"
         },
         "mode": "lines",
         "name": "y_hat",
         "showlegend": false,
         "type": "scatter",
         "x": [
          1993,
          1994,
          1995,
          1996,
          1997,
          1998,
          1999,
          2000,
          2001,
          2002,
          2003,
          2004,
          2005,
          2006,
          2007,
          2008,
          2010,
          2011,
          2012,
          2013,
          2014,
          2015,
          2016,
          2017,
          2018
         ],
         "xaxis": "x",
         "y": [
          0.07812050813073501,
          0.07598047066079427,
          0.07384043319085443,
          0.07170039572091369,
          0.06956035825097384,
          0.0674203207810331,
          0.06528028331109326,
          0.06314024584115252,
          0.06100020837121267,
          0.058860170901271935,
          0.05672013343133209,
          0.05458009596139135,
          0.0524400584914515,
          0.050300021021510766,
          0.04815998355157092,
          0.04601994608163018,
          0.041739871141749596,
          0.03959983367180975,
          0.03745979620186901,
          0.03531975873192916,
          0.033179721261988426,
          0.031039683792048578,
          0.02889964632210784,
          0.026759608852167993,
          0.024619571382227257
         ],
         "yaxis": "y"
        },
        {
         "hovertemplate": "variable=KS<br>Year=%{x}<br>value=%{y}<extra></extra>",
         "legendgroup": "KS",
         "marker": {
          "color": "#FFA15A",
          "symbol": "circle"
         },
         "mode": "markers",
         "name": "KS",
         "orientation": "v",
         "showlegend": true,
         "type": "scatter",
         "x": [
          1993,
          1994,
          1995,
          1996,
          1997,
          1998,
          1999,
          2000,
          2001,
          2002,
          2003,
          2004,
          2005,
          2006,
          2007,
          2008,
          2010,
          2011,
          2012,
          2013,
          2014,
          2015,
          2016,
          2017,
          2018
         ],
         "xaxis": "x",
         "y": [
          0.19861593,
          0.19880149000000003,
          0.19148256000000008,
          0.19134379000000012,
          0.20518749999999997,
          0.23754821999999987,
          0.2549773499999999,
          0.24930419999999998,
          0.25106562999999993,
          0.24716757999999994,
          0.25782914,
          0.26596221,
          0.27007952,
          0.25653914999999994,
          0.25546699000000006,
          0.25675625,
          0.2853055000000001,
          0.31363111,
          0.32486179000000004,
          0.32989005000000005,
          0.33376657,
          0.32499747,
          0.31621814000000004,
          0.31432850999999995,
          0.31341303
         ],
         "yaxis": "y"
        },
        {
         "hovertemplate": "<b>OLS trendline</b><br>value = 0.00560819 * Year + -10.9807<br>R<sup>2</sup>=0.887060<br><br>variable=KS<br>Year=%{x}<br>value=%{y} <b>(trend)</b><extra></extra>",
         "legendgroup": "KS",
         "marker": {
          "color": "#FFA15A",
          "symbol": "circle"
         },
         "mode": "lines",
         "name": "KS",
         "showlegend": false,
         "type": "scatter",
         "x": [
          1993,
          1994,
          1995,
          1996,
          1997,
          1998,
          1999,
          2000,
          2001,
          2002,
          2003,
          2004,
          2005,
          2006,
          2007,
          2008,
          2010,
          2011,
          2012,
          2013,
          2014,
          2015,
          2016,
          2017,
          2018
         ],
         "xaxis": "x",
         "y": [
          0.19646440670676135,
          0.20207259283080958,
          0.20768077895485604,
          0.21328896507890427,
          0.2188971512029525,
          0.22450533732700073,
          0.23011352345104896,
          0.2357217095750972,
          0.24132989569914542,
          0.24693808182319366,
          0.2525462679472419,
          0.2581544540712901,
          0.2637626401953366,
          0.2693708263193848,
          0.27497901244343304,
          0.28058719856748127,
          0.29180357081557773,
          0.29741175693962596,
          0.3030199430636742,
          0.3086281291877224,
          0.31423631531177065,
          0.3198445014358171,
          0.32545268755986534,
          0.33106087368391357,
          0.3366690598079618
         ],
         "yaxis": "y"
        },
        {
         "hovertemplate": "variable=Primal<br>Year=%{x}<br>value=%{y}<extra></extra>",
         "legendgroup": "Primal",
         "marker": {
          "color": "#19d3f3",
          "symbol": "circle"
         },
         "mode": "markers",
         "name": "Primal",
         "orientation": "v",
         "showlegend": true,
         "type": "scatter",
         "x": [
          1993,
          1994,
          1995,
          1996,
          1997,
          1998,
          1999,
          2000,
          2001,
          2002,
          2003,
          2004,
          2005,
          2006,
          2007,
          2008,
          2010,
          2011,
          2012,
          2013,
          2014,
          2015,
          2016,
          2017,
          2018
         ],
         "xaxis": "x",
         "y": [
          0.04524283612227403,
          0.11784683243706276,
          0.03416357914800795,
          0.07676640853815503,
          0.08815921371449943,
          0.010967958036626223,
          -0.25782318894522327,
          -0.006453515701662874,
          0.06806330897467039,
          0.02121962719505506,
          -0.01716425474775591,
          -0.29131346368988953,
          0.24379157083444442,
          -0.014947391506336956,
          -0.02334194091079582,
          -0.4791221339314768,
          0.05016181874664988,
          0.03719945046087587,
          0.017623131306012483,
          0.072055075254144,
          -0.07133348791744706,
          -0.06129055088214909,
          -0.006223512433186838,
          -0.04509695408937357,
          0.043615069056086364
         ],
         "yaxis": "y"
        },
        {
         "hovertemplate": "<b>OLS trendline</b><br>value = -0.00247116 * Year + 4.94168<br>R<sup>2</sup>=0.017892<br><br>variable=Primal<br>Year=%{x}<br>value=%{y} <b>(trend)</b><extra></extra>",
         "legendgroup": "Primal",
         "marker": {
          "color": "#19d3f3",
          "symbol": "circle"
         },
         "mode": "lines",
         "name": "Primal",
         "showlegend": false,
         "type": "scatter",
         "x": [
          1993,
          1994,
          1995,
          1996,
          1997,
          1998,
          1999,
          2000,
          2001,
          2002,
          2003,
          2004,
          2005,
          2006,
          2007,
          2008,
          2010,
          2011,
          2012,
          2013,
          2014,
          2015,
          2016,
          2017,
          2018
         ],
         "xaxis": "x",
         "y": [
          0.01665419626590925,
          0.014183033089279817,
          0.011711869912650386,
          0.009240706736021842,
          0.00676954355939241,
          0.0042983803827629785,
          0.0018272172061335468,
          -0.000643945970495885,
          -0.0031151091471253167,
          -0.0055862723237547485,
          -0.008057435500383292,
          -0.010528598677012724,
          -0.012999761853642156,
          -0.015470925030271587,
          -0.01794208820690102,
          -0.02041325138353045,
          -0.025355577736788426,
          -0.027826740913417858,
          -0.03029790409004729,
          -0.03276906726667672,
          -0.03524023044330615,
          -0.037711393619935585,
          -0.04018255679656502,
          -0.04265371997319356,
          -0.04512488314982299
         ],
         "yaxis": "y"
        }
       ],
       "layout": {
        "legend": {
         "title": {
          "text": "variable"
         },
         "tracegroupgap": 0
        },
        "margin": {
         "t": 60
        },
        "template": {
         "data": {
          "bar": [
           {
            "error_x": {
             "color": "#2a3f5f"
            },
            "error_y": {
             "color": "#2a3f5f"
            },
            "marker": {
             "line": {
              "color": "#E5ECF6",
              "width": 0.5
             }
            },
            "type": "bar"
           }
          ],
          "barpolar": [
           {
            "marker": {
             "line": {
              "color": "#E5ECF6",
              "width": 0.5
             }
            },
            "type": "barpolar"
           }
          ],
          "carpet": [
           {
            "aaxis": {
             "endlinecolor": "#2a3f5f",
             "gridcolor": "white",
             "linecolor": "white",
             "minorgridcolor": "white",
             "startlinecolor": "#2a3f5f"
            },
            "baxis": {
             "endlinecolor": "#2a3f5f",
             "gridcolor": "white",
             "linecolor": "white",
             "minorgridcolor": "white",
             "startlinecolor": "#2a3f5f"
            },
            "type": "carpet"
           }
          ],
          "choropleth": [
           {
            "colorbar": {
             "outlinewidth": 0,
             "ticks": ""
            },
            "type": "choropleth"
           }
          ],
          "contour": [
           {
            "colorbar": {
             "outlinewidth": 0,
             "ticks": ""
            },
            "colorscale": [
             [
              0,
              "#0d0887"
             ],
             [
              0.1111111111111111,
              "#46039f"
             ],
             [
              0.2222222222222222,
              "#7201a8"
             ],
             [
              0.3333333333333333,
              "#9c179e"
             ],
             [
              0.4444444444444444,
              "#bd3786"
             ],
             [
              0.5555555555555556,
              "#d8576b"
             ],
             [
              0.6666666666666666,
              "#ed7953"
             ],
             [
              0.7777777777777778,
              "#fb9f3a"
             ],
             [
              0.8888888888888888,
              "#fdca26"
             ],
             [
              1,
              "#f0f921"
             ]
            ],
            "type": "contour"
           }
          ],
          "contourcarpet": [
           {
            "colorbar": {
             "outlinewidth": 0,
             "ticks": ""
            },
            "type": "contourcarpet"
           }
          ],
          "heatmap": [
           {
            "colorbar": {
             "outlinewidth": 0,
             "ticks": ""
            },
            "colorscale": [
             [
              0,
              "#0d0887"
             ],
             [
              0.1111111111111111,
              "#46039f"
             ],
             [
              0.2222222222222222,
              "#7201a8"
             ],
             [
              0.3333333333333333,
              "#9c179e"
             ],
             [
              0.4444444444444444,
              "#bd3786"
             ],
             [
              0.5555555555555556,
              "#d8576b"
             ],
             [
              0.6666666666666666,
              "#ed7953"
             ],
             [
              0.7777777777777778,
              "#fb9f3a"
             ],
             [
              0.8888888888888888,
              "#fdca26"
             ],
             [
              1,
              "#f0f921"
             ]
            ],
            "type": "heatmap"
           }
          ],
          "heatmapgl": [
           {
            "colorbar": {
             "outlinewidth": 0,
             "ticks": ""
            },
            "colorscale": [
             [
              0,
              "#0d0887"
             ],
             [
              0.1111111111111111,
              "#46039f"
             ],
             [
              0.2222222222222222,
              "#7201a8"
             ],
             [
              0.3333333333333333,
              "#9c179e"
             ],
             [
              0.4444444444444444,
              "#bd3786"
             ],
             [
              0.5555555555555556,
              "#d8576b"
             ],
             [
              0.6666666666666666,
              "#ed7953"
             ],
             [
              0.7777777777777778,
              "#fb9f3a"
             ],
             [
              0.8888888888888888,
              "#fdca26"
             ],
             [
              1,
              "#f0f921"
             ]
            ],
            "type": "heatmapgl"
           }
          ],
          "histogram": [
           {
            "marker": {
             "colorbar": {
              "outlinewidth": 0,
              "ticks": ""
             }
            },
            "type": "histogram"
           }
          ],
          "histogram2d": [
           {
            "colorbar": {
             "outlinewidth": 0,
             "ticks": ""
            },
            "colorscale": [
             [
              0,
              "#0d0887"
             ],
             [
              0.1111111111111111,
              "#46039f"
             ],
             [
              0.2222222222222222,
              "#7201a8"
             ],
             [
              0.3333333333333333,
              "#9c179e"
             ],
             [
              0.4444444444444444,
              "#bd3786"
             ],
             [
              0.5555555555555556,
              "#d8576b"
             ],
             [
              0.6666666666666666,
              "#ed7953"
             ],
             [
              0.7777777777777778,
              "#fb9f3a"
             ],
             [
              0.8888888888888888,
              "#fdca26"
             ],
             [
              1,
              "#f0f921"
             ]
            ],
            "type": "histogram2d"
           }
          ],
          "histogram2dcontour": [
           {
            "colorbar": {
             "outlinewidth": 0,
             "ticks": ""
            },
            "colorscale": [
             [
              0,
              "#0d0887"
             ],
             [
              0.1111111111111111,
              "#46039f"
             ],
             [
              0.2222222222222222,
              "#7201a8"
             ],
             [
              0.3333333333333333,
              "#9c179e"
             ],
             [
              0.4444444444444444,
              "#bd3786"
             ],
             [
              0.5555555555555556,
              "#d8576b"
             ],
             [
              0.6666666666666666,
              "#ed7953"
             ],
             [
              0.7777777777777778,
              "#fb9f3a"
             ],
             [
              0.8888888888888888,
              "#fdca26"
             ],
             [
              1,
              "#f0f921"
             ]
            ],
            "type": "histogram2dcontour"
           }
          ],
          "mesh3d": [
           {
            "colorbar": {
             "outlinewidth": 0,
             "ticks": ""
            },
            "type": "mesh3d"
           }
          ],
          "parcoords": [
           {
            "line": {
             "colorbar": {
              "outlinewidth": 0,
              "ticks": ""
             }
            },
            "type": "parcoords"
           }
          ],
          "pie": [
           {
            "automargin": true,
            "type": "pie"
           }
          ],
          "scatter": [
           {
            "marker": {
             "colorbar": {
              "outlinewidth": 0,
              "ticks": ""
             }
            },
            "type": "scatter"
           }
          ],
          "scatter3d": [
           {
            "line": {
             "colorbar": {
              "outlinewidth": 0,
              "ticks": ""
             }
            },
            "marker": {
             "colorbar": {
              "outlinewidth": 0,
              "ticks": ""
             }
            },
            "type": "scatter3d"
           }
          ],
          "scattercarpet": [
           {
            "marker": {
             "colorbar": {
              "outlinewidth": 0,
              "ticks": ""
             }
            },
            "type": "scattercarpet"
           }
          ],
          "scattergeo": [
           {
            "marker": {
             "colorbar": {
              "outlinewidth": 0,
              "ticks": ""
             }
            },
            "type": "scattergeo"
           }
          ],
          "scattergl": [
           {
            "marker": {
             "colorbar": {
              "outlinewidth": 0,
              "ticks": ""
             }
            },
            "type": "scattergl"
           }
          ],
          "scattermapbox": [
           {
            "marker": {
             "colorbar": {
              "outlinewidth": 0,
              "ticks": ""
             }
            },
            "type": "scattermapbox"
           }
          ],
          "scatterpolar": [
           {
            "marker": {
             "colorbar": {
              "outlinewidth": 0,
              "ticks": ""
             }
            },
            "type": "scatterpolar"
           }
          ],
          "scatterpolargl": [
           {
            "marker": {
             "colorbar": {
              "outlinewidth": 0,
              "ticks": ""
             }
            },
            "type": "scatterpolargl"
           }
          ],
          "scatterternary": [
           {
            "marker": {
             "colorbar": {
              "outlinewidth": 0,
              "ticks": ""
             }
            },
            "type": "scatterternary"
           }
          ],
          "surface": [
           {
            "colorbar": {
             "outlinewidth": 0,
             "ticks": ""
            },
            "colorscale": [
             [
              0,
              "#0d0887"
             ],
             [
              0.1111111111111111,
              "#46039f"
             ],
             [
              0.2222222222222222,
              "#7201a8"
             ],
             [
              0.3333333333333333,
              "#9c179e"
             ],
             [
              0.4444444444444444,
              "#bd3786"
             ],
             [
              0.5555555555555556,
              "#d8576b"
             ],
             [
              0.6666666666666666,
              "#ed7953"
             ],
             [
              0.7777777777777778,
              "#fb9f3a"
             ],
             [
              0.8888888888888888,
              "#fdca26"
             ],
             [
              1,
              "#f0f921"
             ]
            ],
            "type": "surface"
           }
          ],
          "table": [
           {
            "cells": {
             "fill": {
              "color": "#EBF0F8"
             },
             "line": {
              "color": "white"
             }
            },
            "header": {
             "fill": {
              "color": "#C8D4E3"
             },
             "line": {
              "color": "white"
             }
            },
            "type": "table"
           }
          ]
         },
         "layout": {
          "annotationdefaults": {
           "arrowcolor": "#2a3f5f",
           "arrowhead": 0,
           "arrowwidth": 1
          },
          "coloraxis": {
           "colorbar": {
            "outlinewidth": 0,
            "ticks": ""
           }
          },
          "colorscale": {
           "diverging": [
            [
             0,
             "#8e0152"
            ],
            [
             0.1,
             "#c51b7d"
            ],
            [
             0.2,
             "#de77ae"
            ],
            [
             0.3,
             "#f1b6da"
            ],
            [
             0.4,
             "#fde0ef"
            ],
            [
             0.5,
             "#f7f7f7"
            ],
            [
             0.6,
             "#e6f5d0"
            ],
            [
             0.7,
             "#b8e186"
            ],
            [
             0.8,
             "#7fbc41"
            ],
            [
             0.9,
             "#4d9221"
            ],
            [
             1,
             "#276419"
            ]
           ],
           "sequential": [
            [
             0,
             "#0d0887"
            ],
            [
             0.1111111111111111,
             "#46039f"
            ],
            [
             0.2222222222222222,
             "#7201a8"
            ],
            [
             0.3333333333333333,
             "#9c179e"
            ],
            [
             0.4444444444444444,
             "#bd3786"
            ],
            [
             0.5555555555555556,
             "#d8576b"
            ],
            [
             0.6666666666666666,
             "#ed7953"
            ],
            [
             0.7777777777777778,
             "#fb9f3a"
            ],
            [
             0.8888888888888888,
             "#fdca26"
            ],
            [
             1,
             "#f0f921"
            ]
           ],
           "sequentialminus": [
            [
             0,
             "#0d0887"
            ],
            [
             0.1111111111111111,
             "#46039f"
            ],
            [
             0.2222222222222222,
             "#7201a8"
            ],
            [
             0.3333333333333333,
             "#9c179e"
            ],
            [
             0.4444444444444444,
             "#bd3786"
            ],
            [
             0.5555555555555556,
             "#d8576b"
            ],
            [
             0.6666666666666666,
             "#ed7953"
            ],
            [
             0.7777777777777778,
             "#fb9f3a"
            ],
            [
             0.8888888888888888,
             "#fdca26"
            ],
            [
             1,
             "#f0f921"
            ]
           ]
          },
          "colorway": [
           "#636efa",
           "#EF553B",
           "#00cc96",
           "#ab63fa",
           "#FFA15A",
           "#19d3f3",
           "#FF6692",
           "#B6E880",
           "#FF97FF",
           "#FECB52"
          ],
          "font": {
           "color": "#2a3f5f"
          },
          "geo": {
           "bgcolor": "white",
           "lakecolor": "white",
           "landcolor": "#E5ECF6",
           "showlakes": true,
           "showland": true,
           "subunitcolor": "white"
          },
          "hoverlabel": {
           "align": "left"
          },
          "hovermode": "closest",
          "mapbox": {
           "style": "light"
          },
          "paper_bgcolor": "white",
          "plot_bgcolor": "#E5ECF6",
          "polar": {
           "angularaxis": {
            "gridcolor": "white",
            "linecolor": "white",
            "ticks": ""
           },
           "bgcolor": "#E5ECF6",
           "radialaxis": {
            "gridcolor": "white",
            "linecolor": "white",
            "ticks": ""
           }
          },
          "scene": {
           "xaxis": {
            "backgroundcolor": "#E5ECF6",
            "gridcolor": "white",
            "gridwidth": 2,
            "linecolor": "white",
            "showbackground": true,
            "ticks": "",
            "zerolinecolor": "white"
           },
           "yaxis": {
            "backgroundcolor": "#E5ECF6",
            "gridcolor": "white",
            "gridwidth": 2,
            "linecolor": "white",
            "showbackground": true,
            "ticks": "",
            "zerolinecolor": "white"
           },
           "zaxis": {
            "backgroundcolor": "#E5ECF6",
            "gridcolor": "white",
            "gridwidth": 2,
            "linecolor": "white",
            "showbackground": true,
            "ticks": "",
            "zerolinecolor": "white"
           }
          },
          "shapedefaults": {
           "line": {
            "color": "#2a3f5f"
           }
          },
          "ternary": {
           "aaxis": {
            "gridcolor": "white",
            "linecolor": "white",
            "ticks": ""
           },
           "baxis": {
            "gridcolor": "white",
            "linecolor": "white",
            "ticks": ""
           },
           "bgcolor": "#E5ECF6",
           "caxis": {
            "gridcolor": "white",
            "linecolor": "white",
            "ticks": ""
           }
          },
          "title": {
           "x": 0.05
          },
          "xaxis": {
           "automargin": true,
           "gridcolor": "white",
           "linecolor": "white",
           "ticks": "",
           "title": {
            "standoff": 15
           },
           "zerolinecolor": "white",
           "zerolinewidth": 2
          },
          "yaxis": {
           "automargin": true,
           "gridcolor": "white",
           "linecolor": "white",
           "ticks": "",
           "title": {
            "standoff": 15
           },
           "zerolinecolor": "white",
           "zerolinewidth": 2
          }
         }
        },
        "xaxis": {
         "anchor": "y",
         "domain": [
          0,
          1
         ],
         "title": {
          "text": "Year"
         }
        },
        "yaxis": {
         "anchor": "x",
         "domain": [
          0,
          1
         ],
         "title": {
          "text": "value"
         }
        }
       }
      },
      "text/html": [
       "<div>\n",
       "        \n",
       "        \n",
       "            <div id=\"43a6b205-386a-477b-b437-79339494ac57\" class=\"plotly-graph-div\" style=\"height:525px; width:100%;\"></div>\n",
       "            <script type=\"text/javascript\">\n",
       "                require([\"plotly\"], function(Plotly) {\n",
       "                    window.PLOTLYENV=window.PLOTLYENV || {};\n",
       "                    \n",
       "                if (document.getElementById(\"43a6b205-386a-477b-b437-79339494ac57\")) {\n",
       "                    Plotly.newPlot(\n",
       "                        '43a6b205-386a-477b-b437-79339494ac57',\n",
       "                        [{\"hovertemplate\": \"variable=wH_hat<br>Year=%{x}<br>value=%{y}<extra></extra>\", \"legendgroup\": \"wH_hat\", \"marker\": {\"color\": \"#636efa\", \"symbol\": \"circle\"}, \"mode\": \"markers\", \"name\": \"wH_hat\", \"orientation\": \"v\", \"showlegend\": true, \"type\": \"scatter\", \"x\": [1993, 1994, 1995, 1996, 1997, 1998, 1999, 2000, 2001, 2002, 2003, 2004, 2005, 2006, 2007, 2008, 2010, 2011, 2012, 2013, 2014, 2015, 2016, 2017, 2018], \"xaxis\": \"x\", \"y\": [0.0, -0.06313884623549249, 0.046851590641591334, -0.027864215796280126, -0.053636732100215474, -0.08762698506171497, 0.485398717885583, 0.10194080446238224, -0.042773927841569394, 0.05828968314878625, 0.049413793866799206, 0.4533205516938448, -0.29028757881039846, 0.07358128231783731, 0.09118230309358784, 0.6693262965068261, 0.0052671663551580985, -0.024596776115205148, -0.012435376366284653, -0.07615734277873902, 0.13772841264077385, 0.11554442903442616, 0.03624246342370761, 0.08903206756782792, -0.03936291274630996], \"yaxis\": \"y\"}, {\"hovertemplate\": \"<b>OLS trendline</b><br>value = 0.0011917 * Year + -2.32197<br>R<sup>2</sup>=0.002150<br><br>variable=wH_hat<br>Year=%{x}<br>value=%{y} <b>(trend)</b><extra></extra>\", \"legendgroup\": \"wH_hat\", \"marker\": {\"color\": \"#636efa\", \"symbol\": \"circle\"}, \"mode\": \"lines\", \"name\": \"wH_hat\", \"showlegend\": false, \"type\": \"scatter\", \"x\": [1993, 1994, 1995, 1996, 1997, 1998, 1999, 2000, 2001, 2002, 2003, 2004, 2005, 2006, 2007, 2008, 2010, 2011, 2012, 2013, 2014, 2015, 2016, 2017, 2018], \"xaxis\": \"x\", \"y\": [0.05308016894299916, 0.05427186682394414, 0.05546356470488911, 0.05665526258583409, 0.05784696046677862, 0.059038658347723594, 0.06023035622866857, 0.061422054109613544, 0.06261375199055852, 0.06380544987150305, 0.06499714775244803, 0.066188845633393, 0.06738054351433798, 0.06857224139528251, 0.06976393927622748, 0.07095563715717246, 0.07333903291906241, 0.07453073080000694, 0.07572242868095191, 0.07691412656189689, 0.07810582444284186, 0.0792975223237864, 0.08048922020473137, 0.08168091808567635, 0.08287261596662132], \"yaxis\": \"y\"}, {\"hovertemplate\": \"variable=wK_hat<br>Year=%{x}<br>value=%{y}<extra></extra>\", \"legendgroup\": \"wK_hat\", \"marker\": {\"color\": \"#EF553B\", \"symbol\": \"circle\"}, \"mode\": \"markers\", \"name\": \"wK_hat\", \"orientation\": \"v\", \"showlegend\": true, \"type\": \"scatter\", \"x\": [1993, 1994, 1995, 1996, 1997, 1998, 1999, 2000, 2001, 2002, 2003, 2004, 2005, 2006, 2007, 2008, 2010, 2011, 2012, 2013, 2014, 2015, 2016, 2017, 2018], \"xaxis\": \"x\", \"y\": [0.1403849422382544, 0.16651036936738195, 0.16000224015777942, 0.14419315573763686, 0.09351969312147597, 0.0023240764587415235, 0.04151792821059006, 0.08527159805189471, 0.05549181835314737, 0.05979175951545253, 0.05085925999057563, 0.0457404709072383, 0.04257017198080244, 0.050159489403922015, 0.05880261965557118, 0.04927902515061493, 0.055732418877543946, 0.05440445187263606, 0.04546540828497607, 0.03309048737252439, 0.03560932503158028, 0.03753224465407373, 0.036550536663007435, 0.052317501627955273, 0.03979494177789525], \"yaxis\": \"y\"}, {\"hovertemplate\": \"<b>OLS trendline</b><br>value = -0.00361805 * Year + 7.32096<br>R<sup>2</sup>=0.436253<br><br>variable=wK_hat<br>Year=%{x}<br>value=%{y} <b>(trend)</b><extra></extra>\", \"legendgroup\": \"wK_hat\", \"marker\": {\"color\": \"#EF553B\", \"symbol\": \"circle\"}, \"mode\": \"lines\", \"name\": \"wK_hat\", \"showlegend\": false, \"type\": \"scatter\", \"x\": [1993, 1994, 1995, 1996, 1997, 1998, 1999, 2000, 2001, 2002, 2003, 2004, 2005, 2006, 2007, 2008, 2010, 2011, 2012, 2013, 2014, 2015, 2016, 2017, 2018], \"xaxis\": \"x\", \"y\": [0.11019568439187122, 0.10657763851700519, 0.10295959264213916, 0.09934154676727402, 0.095723500892408, 0.09210545501754286, 0.08848740914267683, 0.0848693632678108, 0.08125131739294567, 0.07763327151807964, 0.0740152256432145, 0.07039717976834847, 0.06677913389348245, 0.0631610880186173, 0.05954304214375128, 0.05592499626888525, 0.048688904519154086, 0.04507085864428895, 0.04145281276942292, 0.03783476689455689, 0.034216721019691754, 0.030598675144825727, 0.026980629269960588, 0.02336258339509456, 0.019744537520228533], \"yaxis\": \"y\"}, {\"hovertemplate\": \"variable=LS<br>Year=%{x}<br>value=%{y}<extra></extra>\", \"legendgroup\": \"LS\", \"marker\": {\"color\": \"#00cc96\", \"symbol\": \"circle\"}, \"mode\": \"markers\", \"name\": \"LS\", \"orientation\": \"v\", \"showlegend\": true, \"type\": \"scatter\", \"x\": [1993, 1994, 1995, 1996, 1997, 1998, 1999, 2000, 2001, 2002, 2003, 2004, 2005, 2006, 2007, 2008, 2010, 2011, 2012, 2013, 2014, 2015, 2016, 2017, 2018], \"xaxis\": \"x\", \"y\": [0.80138407, 0.80119851, 0.8085174399999999, 0.8086562099999999, 0.7948125, 0.7624517800000001, 0.7450226500000001, 0.7506958, 0.7489343700000001, 0.7528324200000001, 0.74217086, 0.73403779, 0.72992048, 0.7434608500000001, 0.7445330099999999, 0.74324375, 0.7146944999999999, 0.68636889, 0.67513821, 0.67010995, 0.66623343, 0.67500253, 0.68378186, 0.68567149, 0.68658697], \"yaxis\": \"y\"}, {\"hovertemplate\": \"<b>OLS trendline</b><br>value = -0.00560819 * Year + 11.9807<br>R<sup>2</sup>=0.887060<br><br>variable=LS<br>Year=%{x}<br>value=%{y} <b>(trend)</b><extra></extra>\", \"legendgroup\": \"LS\", \"marker\": {\"color\": \"#00cc96\", \"symbol\": \"circle\"}, \"mode\": \"lines\", \"name\": \"LS\", \"showlegend\": false, \"type\": \"scatter\", \"x\": [1993, 1994, 1995, 1996, 1997, 1998, 1999, 2000, 2001, 2002, 2003, 2004, 2005, 2006, 2007, 2008, 2010, 2011, 2012, 2013, 2014, 2015, 2016, 2017, 2018], \"xaxis\": \"x\", \"y\": [0.8035355932932564, 0.79792740716921, 0.7923192210451617, 0.7867110349211135, 0.7811028487970653, 0.775494662673017, 0.7698864765489688, 0.7642782904249206, 0.7586701043008723, 0.7530619181768241, 0.7474537320527759, 0.7418455459287294, 0.7362373598046812, 0.730629173680633, 0.7250209875565847, 0.7194128014325365, 0.70819642918444, 0.7025882430603918, 0.6969800569363436, 0.6913718708122953, 0.6857636846882489, 0.6801554985642007, 0.6745473124401524, 0.6689391263161042, 0.663330940192056], \"yaxis\": \"y\"}, {\"hovertemplate\": \"variable=y_hat<br>Year=%{x}<br>value=%{y}<extra></extra>\", \"legendgroup\": \"y_hat\", \"marker\": {\"color\": \"#ab63fa\", \"symbol\": \"circle\"}, \"mode\": \"markers\", \"name\": \"y_hat\", \"orientation\": \"v\", \"showlegend\": true, \"type\": \"scatter\", \"x\": [1993, 1994, 1995, 1996, 1997, 1998, 1999, 2000, 2001, 2002, 2003, 2004, 2005, 2006, 2007, 2008, 2010, 2011, 2012, 2013, 2014, 2015, 2016, 2017, 2018], \"xaxis\": \"x\", \"y\": [0.07312552198292122, 0.10036259244075296, 0.10268154582462174, 0.0818243023086127, 0.06471714061445977, -0.05529131247379382, 0.11439598147312269, 0.0913315855919179, 0.049960532608897656, 0.0798805749243654, 0.032622222406635704, 0.05360618896597091, 0.04340205358601312, 0.0526252839658885, 0.05956842191772904, 0.031003150359196097, 0.06982699920533353, 0.03737991717086042, 0.023997507483940916, 0.03193750462639677, 0.03231098712047675, 0.028900115599489018, 0.030116369337235938, 0.03239467867127743, 0.029061259344506762], \"yaxis\": \"y\"}, {\"hovertemplate\": \"<b>OLS trendline</b><br>value = -0.00214004 * Year + 4.34322<br>R<sup>2</sup>=0.228046<br><br>variable=y_hat<br>Year=%{x}<br>value=%{y} <b>(trend)</b><extra></extra>\", \"legendgroup\": \"y_hat\", \"marker\": {\"color\": \"#ab63fa\", \"symbol\": \"circle\"}, \"mode\": \"lines\", \"name\": \"y_hat\", \"showlegend\": false, \"type\": \"scatter\", \"x\": [1993, 1994, 1995, 1996, 1997, 1998, 1999, 2000, 2001, 2002, 2003, 2004, 2005, 2006, 2007, 2008, 2010, 2011, 2012, 2013, 2014, 2015, 2016, 2017, 2018], \"xaxis\": \"x\", \"y\": [0.07812050813073501, 0.07598047066079427, 0.07384043319085443, 0.07170039572091369, 0.06956035825097384, 0.0674203207810331, 0.06528028331109326, 0.06314024584115252, 0.06100020837121267, 0.058860170901271935, 0.05672013343133209, 0.05458009596139135, 0.0524400584914515, 0.050300021021510766, 0.04815998355157092, 0.04601994608163018, 0.041739871141749596, 0.03959983367180975, 0.03745979620186901, 0.03531975873192916, 0.033179721261988426, 0.031039683792048578, 0.02889964632210784, 0.026759608852167993, 0.024619571382227257], \"yaxis\": \"y\"}, {\"hovertemplate\": \"variable=KS<br>Year=%{x}<br>value=%{y}<extra></extra>\", \"legendgroup\": \"KS\", \"marker\": {\"color\": \"#FFA15A\", \"symbol\": \"circle\"}, \"mode\": \"markers\", \"name\": \"KS\", \"orientation\": \"v\", \"showlegend\": true, \"type\": \"scatter\", \"x\": [1993, 1994, 1995, 1996, 1997, 1998, 1999, 2000, 2001, 2002, 2003, 2004, 2005, 2006, 2007, 2008, 2010, 2011, 2012, 2013, 2014, 2015, 2016, 2017, 2018], \"xaxis\": \"x\", \"y\": [0.19861593, 0.19880149000000003, 0.19148256000000008, 0.19134379000000012, 0.20518749999999997, 0.23754821999999987, 0.2549773499999999, 0.24930419999999998, 0.25106562999999993, 0.24716757999999994, 0.25782914, 0.26596221, 0.27007952, 0.25653914999999994, 0.25546699000000006, 0.25675625, 0.2853055000000001, 0.31363111, 0.32486179000000004, 0.32989005000000005, 0.33376657, 0.32499747, 0.31621814000000004, 0.31432850999999995, 0.31341303], \"yaxis\": \"y\"}, {\"hovertemplate\": \"<b>OLS trendline</b><br>value = 0.00560819 * Year + -10.9807<br>R<sup>2</sup>=0.887060<br><br>variable=KS<br>Year=%{x}<br>value=%{y} <b>(trend)</b><extra></extra>\", \"legendgroup\": \"KS\", \"marker\": {\"color\": \"#FFA15A\", \"symbol\": \"circle\"}, \"mode\": \"lines\", \"name\": \"KS\", \"showlegend\": false, \"type\": \"scatter\", \"x\": [1993, 1994, 1995, 1996, 1997, 1998, 1999, 2000, 2001, 2002, 2003, 2004, 2005, 2006, 2007, 2008, 2010, 2011, 2012, 2013, 2014, 2015, 2016, 2017, 2018], \"xaxis\": \"x\", \"y\": [0.19646440670676135, 0.20207259283080958, 0.20768077895485604, 0.21328896507890427, 0.2188971512029525, 0.22450533732700073, 0.23011352345104896, 0.2357217095750972, 0.24132989569914542, 0.24693808182319366, 0.2525462679472419, 0.2581544540712901, 0.2637626401953366, 0.2693708263193848, 0.27497901244343304, 0.28058719856748127, 0.29180357081557773, 0.29741175693962596, 0.3030199430636742, 0.3086281291877224, 0.31423631531177065, 0.3198445014358171, 0.32545268755986534, 0.33106087368391357, 0.3366690598079618], \"yaxis\": \"y\"}, {\"hovertemplate\": \"variable=Primal<br>Year=%{x}<br>value=%{y}<extra></extra>\", \"legendgroup\": \"Primal\", \"marker\": {\"color\": \"#19d3f3\", \"symbol\": \"circle\"}, \"mode\": \"markers\", \"name\": \"Primal\", \"orientation\": \"v\", \"showlegend\": true, \"type\": \"scatter\", \"x\": [1993, 1994, 1995, 1996, 1997, 1998, 1999, 2000, 2001, 2002, 2003, 2004, 2005, 2006, 2007, 2008, 2010, 2011, 2012, 2013, 2014, 2015, 2016, 2017, 2018], \"xaxis\": \"x\", \"y\": [0.04524283612227403, 0.11784683243706276, 0.03416357914800795, 0.07676640853815503, 0.08815921371449943, 0.010967958036626223, -0.25782318894522327, -0.006453515701662874, 0.06806330897467039, 0.02121962719505506, -0.01716425474775591, -0.29131346368988953, 0.24379157083444442, -0.014947391506336956, -0.02334194091079582, -0.4791221339314768, 0.05016181874664988, 0.03719945046087587, 0.017623131306012483, 0.072055075254144, -0.07133348791744706, -0.06129055088214909, -0.006223512433186838, -0.04509695408937357, 0.043615069056086364], \"yaxis\": \"y\"}, {\"hovertemplate\": \"<b>OLS trendline</b><br>value = -0.00247116 * Year + 4.94168<br>R<sup>2</sup>=0.017892<br><br>variable=Primal<br>Year=%{x}<br>value=%{y} <b>(trend)</b><extra></extra>\", \"legendgroup\": \"Primal\", \"marker\": {\"color\": \"#19d3f3\", \"symbol\": \"circle\"}, \"mode\": \"lines\", \"name\": \"Primal\", \"showlegend\": false, \"type\": \"scatter\", \"x\": [1993, 1994, 1995, 1996, 1997, 1998, 1999, 2000, 2001, 2002, 2003, 2004, 2005, 2006, 2007, 2008, 2010, 2011, 2012, 2013, 2014, 2015, 2016, 2017, 2018], \"xaxis\": \"x\", \"y\": [0.01665419626590925, 0.014183033089279817, 0.011711869912650386, 0.009240706736021842, 0.00676954355939241, 0.0042983803827629785, 0.0018272172061335468, -0.000643945970495885, -0.0031151091471253167, -0.0055862723237547485, -0.008057435500383292, -0.010528598677012724, -0.012999761853642156, -0.015470925030271587, -0.01794208820690102, -0.02041325138353045, -0.025355577736788426, -0.027826740913417858, -0.03029790409004729, -0.03276906726667672, -0.03524023044330615, -0.037711393619935585, -0.04018255679656502, -0.04265371997319356, -0.04512488314982299], \"yaxis\": \"y\"}],\n",
       "                        {\"legend\": {\"title\": {\"text\": \"variable\"}, \"tracegroupgap\": 0}, \"margin\": {\"t\": 60}, \"template\": {\"data\": {\"bar\": [{\"error_x\": {\"color\": \"#2a3f5f\"}, \"error_y\": {\"color\": \"#2a3f5f\"}, \"marker\": {\"line\": {\"color\": \"#E5ECF6\", \"width\": 0.5}}, \"type\": \"bar\"}], \"barpolar\": [{\"marker\": {\"line\": {\"color\": \"#E5ECF6\", \"width\": 0.5}}, \"type\": \"barpolar\"}], \"carpet\": [{\"aaxis\": {\"endlinecolor\": \"#2a3f5f\", \"gridcolor\": \"white\", \"linecolor\": \"white\", \"minorgridcolor\": \"white\", \"startlinecolor\": \"#2a3f5f\"}, \"baxis\": {\"endlinecolor\": \"#2a3f5f\", \"gridcolor\": \"white\", \"linecolor\": \"white\", \"minorgridcolor\": \"white\", \"startlinecolor\": \"#2a3f5f\"}, \"type\": \"carpet\"}], \"choropleth\": [{\"colorbar\": {\"outlinewidth\": 0, \"ticks\": \"\"}, \"type\": \"choropleth\"}], \"contour\": [{\"colorbar\": {\"outlinewidth\": 0, \"ticks\": \"\"}, \"colorscale\": [[0.0, \"#0d0887\"], [0.1111111111111111, \"#46039f\"], [0.2222222222222222, \"#7201a8\"], [0.3333333333333333, \"#9c179e\"], [0.4444444444444444, \"#bd3786\"], [0.5555555555555556, \"#d8576b\"], [0.6666666666666666, \"#ed7953\"], [0.7777777777777778, \"#fb9f3a\"], [0.8888888888888888, \"#fdca26\"], [1.0, \"#f0f921\"]], \"type\": \"contour\"}], \"contourcarpet\": [{\"colorbar\": {\"outlinewidth\": 0, \"ticks\": \"\"}, \"type\": \"contourcarpet\"}], \"heatmap\": [{\"colorbar\": {\"outlinewidth\": 0, \"ticks\": \"\"}, \"colorscale\": [[0.0, \"#0d0887\"], [0.1111111111111111, \"#46039f\"], [0.2222222222222222, \"#7201a8\"], [0.3333333333333333, \"#9c179e\"], [0.4444444444444444, \"#bd3786\"], [0.5555555555555556, \"#d8576b\"], [0.6666666666666666, \"#ed7953\"], [0.7777777777777778, \"#fb9f3a\"], [0.8888888888888888, \"#fdca26\"], [1.0, \"#f0f921\"]], \"type\": \"heatmap\"}], \"heatmapgl\": [{\"colorbar\": {\"outlinewidth\": 0, \"ticks\": \"\"}, \"colorscale\": [[0.0, \"#0d0887\"], [0.1111111111111111, \"#46039f\"], [0.2222222222222222, \"#7201a8\"], [0.3333333333333333, \"#9c179e\"], [0.4444444444444444, \"#bd3786\"], [0.5555555555555556, \"#d8576b\"], [0.6666666666666666, \"#ed7953\"], [0.7777777777777778, \"#fb9f3a\"], [0.8888888888888888, \"#fdca26\"], [1.0, \"#f0f921\"]], \"type\": \"heatmapgl\"}], \"histogram\": [{\"marker\": {\"colorbar\": {\"outlinewidth\": 0, \"ticks\": \"\"}}, \"type\": \"histogram\"}], \"histogram2d\": [{\"colorbar\": {\"outlinewidth\": 0, \"ticks\": \"\"}, \"colorscale\": [[0.0, \"#0d0887\"], [0.1111111111111111, \"#46039f\"], [0.2222222222222222, \"#7201a8\"], [0.3333333333333333, \"#9c179e\"], [0.4444444444444444, \"#bd3786\"], [0.5555555555555556, \"#d8576b\"], [0.6666666666666666, \"#ed7953\"], [0.7777777777777778, \"#fb9f3a\"], [0.8888888888888888, \"#fdca26\"], [1.0, \"#f0f921\"]], \"type\": \"histogram2d\"}], \"histogram2dcontour\": [{\"colorbar\": {\"outlinewidth\": 0, \"ticks\": \"\"}, \"colorscale\": [[0.0, \"#0d0887\"], [0.1111111111111111, \"#46039f\"], [0.2222222222222222, \"#7201a8\"], [0.3333333333333333, \"#9c179e\"], [0.4444444444444444, \"#bd3786\"], [0.5555555555555556, \"#d8576b\"], [0.6666666666666666, \"#ed7953\"], [0.7777777777777778, \"#fb9f3a\"], [0.8888888888888888, \"#fdca26\"], [1.0, \"#f0f921\"]], \"type\": \"histogram2dcontour\"}], \"mesh3d\": [{\"colorbar\": {\"outlinewidth\": 0, \"ticks\": \"\"}, \"type\": \"mesh3d\"}], \"parcoords\": [{\"line\": {\"colorbar\": {\"outlinewidth\": 0, \"ticks\": \"\"}}, \"type\": \"parcoords\"}], \"pie\": [{\"automargin\": true, \"type\": \"pie\"}], \"scatter\": [{\"marker\": {\"colorbar\": {\"outlinewidth\": 0, \"ticks\": \"\"}}, \"type\": \"scatter\"}], \"scatter3d\": [{\"line\": {\"colorbar\": {\"outlinewidth\": 0, \"ticks\": \"\"}}, \"marker\": {\"colorbar\": {\"outlinewidth\": 0, \"ticks\": \"\"}}, \"type\": \"scatter3d\"}], \"scattercarpet\": [{\"marker\": {\"colorbar\": {\"outlinewidth\": 0, \"ticks\": \"\"}}, \"type\": \"scattercarpet\"}], \"scattergeo\": [{\"marker\": {\"colorbar\": {\"outlinewidth\": 0, \"ticks\": \"\"}}, \"type\": \"scattergeo\"}], \"scattergl\": [{\"marker\": {\"colorbar\": {\"outlinewidth\": 0, \"ticks\": \"\"}}, \"type\": \"scattergl\"}], \"scattermapbox\": [{\"marker\": {\"colorbar\": {\"outlinewidth\": 0, \"ticks\": \"\"}}, \"type\": \"scattermapbox\"}], \"scatterpolar\": [{\"marker\": {\"colorbar\": {\"outlinewidth\": 0, \"ticks\": \"\"}}, \"type\": \"scatterpolar\"}], \"scatterpolargl\": [{\"marker\": {\"colorbar\": {\"outlinewidth\": 0, \"ticks\": \"\"}}, \"type\": \"scatterpolargl\"}], \"scatterternary\": [{\"marker\": {\"colorbar\": {\"outlinewidth\": 0, \"ticks\": \"\"}}, \"type\": \"scatterternary\"}], \"surface\": [{\"colorbar\": {\"outlinewidth\": 0, \"ticks\": \"\"}, \"colorscale\": [[0.0, \"#0d0887\"], [0.1111111111111111, \"#46039f\"], [0.2222222222222222, \"#7201a8\"], [0.3333333333333333, \"#9c179e\"], [0.4444444444444444, \"#bd3786\"], [0.5555555555555556, \"#d8576b\"], [0.6666666666666666, \"#ed7953\"], [0.7777777777777778, \"#fb9f3a\"], [0.8888888888888888, \"#fdca26\"], [1.0, \"#f0f921\"]], \"type\": \"surface\"}], \"table\": [{\"cells\": {\"fill\": {\"color\": \"#EBF0F8\"}, \"line\": {\"color\": \"white\"}}, \"header\": {\"fill\": {\"color\": \"#C8D4E3\"}, \"line\": {\"color\": \"white\"}}, \"type\": \"table\"}]}, \"layout\": {\"annotationdefaults\": {\"arrowcolor\": \"#2a3f5f\", \"arrowhead\": 0, \"arrowwidth\": 1}, \"coloraxis\": {\"colorbar\": {\"outlinewidth\": 0, \"ticks\": \"\"}}, \"colorscale\": {\"diverging\": [[0, \"#8e0152\"], [0.1, \"#c51b7d\"], [0.2, \"#de77ae\"], [0.3, \"#f1b6da\"], [0.4, \"#fde0ef\"], [0.5, \"#f7f7f7\"], [0.6, \"#e6f5d0\"], [0.7, \"#b8e186\"], [0.8, \"#7fbc41\"], [0.9, \"#4d9221\"], [1, \"#276419\"]], \"sequential\": [[0.0, \"#0d0887\"], [0.1111111111111111, \"#46039f\"], [0.2222222222222222, \"#7201a8\"], [0.3333333333333333, \"#9c179e\"], [0.4444444444444444, \"#bd3786\"], [0.5555555555555556, \"#d8576b\"], [0.6666666666666666, \"#ed7953\"], [0.7777777777777778, \"#fb9f3a\"], [0.8888888888888888, \"#fdca26\"], [1.0, \"#f0f921\"]], \"sequentialminus\": [[0.0, \"#0d0887\"], [0.1111111111111111, \"#46039f\"], [0.2222222222222222, \"#7201a8\"], [0.3333333333333333, \"#9c179e\"], [0.4444444444444444, \"#bd3786\"], [0.5555555555555556, \"#d8576b\"], [0.6666666666666666, \"#ed7953\"], [0.7777777777777778, \"#fb9f3a\"], [0.8888888888888888, \"#fdca26\"], [1.0, \"#f0f921\"]]}, \"colorway\": [\"#636efa\", \"#EF553B\", \"#00cc96\", \"#ab63fa\", \"#FFA15A\", \"#19d3f3\", \"#FF6692\", \"#B6E880\", \"#FF97FF\", \"#FECB52\"], \"font\": {\"color\": \"#2a3f5f\"}, \"geo\": {\"bgcolor\": \"white\", \"lakecolor\": \"white\", \"landcolor\": \"#E5ECF6\", \"showlakes\": true, \"showland\": true, \"subunitcolor\": \"white\"}, \"hoverlabel\": {\"align\": \"left\"}, \"hovermode\": \"closest\", \"mapbox\": {\"style\": \"light\"}, \"paper_bgcolor\": \"white\", \"plot_bgcolor\": \"#E5ECF6\", \"polar\": {\"angularaxis\": {\"gridcolor\": \"white\", \"linecolor\": \"white\", \"ticks\": \"\"}, \"bgcolor\": \"#E5ECF6\", \"radialaxis\": {\"gridcolor\": \"white\", \"linecolor\": \"white\", \"ticks\": \"\"}}, \"scene\": {\"xaxis\": {\"backgroundcolor\": \"#E5ECF6\", \"gridcolor\": \"white\", \"gridwidth\": 2, \"linecolor\": \"white\", \"showbackground\": true, \"ticks\": \"\", \"zerolinecolor\": \"white\"}, \"yaxis\": {\"backgroundcolor\": \"#E5ECF6\", \"gridcolor\": \"white\", \"gridwidth\": 2, \"linecolor\": \"white\", \"showbackground\": true, \"ticks\": \"\", \"zerolinecolor\": \"white\"}, \"zaxis\": {\"backgroundcolor\": \"#E5ECF6\", \"gridcolor\": \"white\", \"gridwidth\": 2, \"linecolor\": \"white\", \"showbackground\": true, \"ticks\": \"\", \"zerolinecolor\": \"white\"}}, \"shapedefaults\": {\"line\": {\"color\": \"#2a3f5f\"}}, \"ternary\": {\"aaxis\": {\"gridcolor\": \"white\", \"linecolor\": \"white\", \"ticks\": \"\"}, \"baxis\": {\"gridcolor\": \"white\", \"linecolor\": \"white\", \"ticks\": \"\"}, \"bgcolor\": \"#E5ECF6\", \"caxis\": {\"gridcolor\": \"white\", \"linecolor\": \"white\", \"ticks\": \"\"}}, \"title\": {\"x\": 0.05}, \"xaxis\": {\"automargin\": true, \"gridcolor\": \"white\", \"linecolor\": \"white\", \"ticks\": \"\", \"title\": {\"standoff\": 15}, \"zerolinecolor\": \"white\", \"zerolinewidth\": 2}, \"yaxis\": {\"automargin\": true, \"gridcolor\": \"white\", \"linecolor\": \"white\", \"ticks\": \"\", \"title\": {\"standoff\": 15}, \"zerolinecolor\": \"white\", \"zerolinewidth\": 2}}}, \"xaxis\": {\"anchor\": \"y\", \"domain\": [0.0, 1.0], \"title\": {\"text\": \"Year\"}}, \"yaxis\": {\"anchor\": \"x\", \"domain\": [0.0, 1.0], \"title\": {\"text\": \"value\"}}},\n",
       "                        {\"responsive\": true}\n",
       "                    ).then(function(){\n",
       "                            \n",
       "var gd = document.getElementById('43a6b205-386a-477b-b437-79339494ac57');\n",
       "var x = new MutationObserver(function (mutations, observer) {{\n",
       "        var display = window.getComputedStyle(gd).display;\n",
       "        if (!display || display === 'none') {{\n",
       "            console.log([gd, 'removed!']);\n",
       "            Plotly.purge(gd);\n",
       "            observer.disconnect();\n",
       "        }}\n",
       "}});\n",
       "\n",
       "// Listen for the removal of the full notebook cells\n",
       "var notebookContainer = gd.closest('#notebook-container');\n",
       "if (notebookContainer) {{\n",
       "    x.observe(notebookContainer, {childList: true});\n",
       "}}\n",
       "\n",
       "// Listen for the clearing of the current output cell\n",
       "var outputEl = gd.closest('.output');\n",
       "if (outputEl) {{\n",
       "    x.observe(outputEl, {childList: true});\n",
       "}}\n",
       "\n",
       "                        })\n",
       "                };\n",
       "                });\n",
       "            </script>\n",
       "        </div>"
      ]
     },
     "metadata": {},
     "output_type": "display_data"
    }
   ],
   "source": [
    "px.scatter(primal.reset_index().melt(id_vars='Year'), x='Year', y='value', color='variable', trendline='ols')"
   ]
  },
  {
   "cell_type": "markdown",
   "metadata": {},
   "source": [
    "## Dual"
   ]
  },
  {
   "cell_type": "code",
   "execution_count": 69,
   "metadata": {},
   "outputs": [],
   "source": [
    "dual =\\\n",
    "(pd.concat([wrc, wwc, ls_oecd], axis=1, join='inner')\n",
    " .assign(LS=lambda x: x.LS/100,\n",
    "         KS=lambda x: 1-x.LS )\n",
    " .assign(Dual=lambda x: x.KS*x.wr_hat + x.LS*x.ww_hat)\n",
    ")"
   ]
  },
  {
   "cell_type": "code",
   "execution_count": 70,
   "metadata": {},
   "outputs": [
    {
     "data": {
      "application/vnd.plotly.v1+json": {
       "config": {
        "plotlyServerURL": "https://plot.ly"
       },
       "data": [
        {
         "hovertemplate": "variable=wr_hat<br>Year=%{x}<br>value=%{y}<extra></extra>",
         "legendgroup": "wr_hat",
         "marker": {
          "color": "#636efa",
          "symbol": "circle"
         },
         "mode": "markers",
         "name": "wr_hat",
         "orientation": "v",
         "showlegend": true,
         "type": "scatter",
         "x": [
          1993,
          1994,
          1995,
          1996,
          1997,
          1998,
          1999,
          2000,
          2001,
          2002,
          2003,
          2004,
          2005,
          2006,
          2007,
          2008,
          2010,
          2011,
          2012,
          2013,
          2014,
          2015,
          2016,
          2017,
          2018
         ],
         "xaxis": "x",
         "y": [
          0.07469009956345937,
          -0.07797217592997427,
          -0.258596374074176,
          0.25013416002300315,
          -0.11444733802674248,
          -0.6110404564269645,
          -0.1756100126698661,
          -0.2637396769112172,
          -0.12814434676994024,
          0.07886534319654946,
          -0.28351783098027405,
          -0.42078314919368065,
          2.066315242224677,
          0.2173410591954224,
          -0.07936156815444327,
          -0.9282142861641614,
          -0.31294798115650047,
          -0.23663010589740097,
          0.8019505401850889,
          0.24133300662439208,
          -0.0949651339486279,
          -0.0858780442351705,
          -0.0431819139703956,
          -0.1598026050992022,
          -0.01478623886059342
         ],
         "yaxis": "y"
        },
        {
         "hovertemplate": "<b>OLS trendline</b><br>value = 0.00473311 * Year + -9.51396<br>R<sup>2</sup>=0.004653<br><br>variable=wr_hat<br>Year=%{x}<br>value=%{y} <b>(trend)</b><extra></extra>",
         "legendgroup": "wr_hat",
         "marker": {
          "color": "#636efa",
          "symbol": "circle"
         },
         "mode": "lines",
         "name": "wr_hat",
         "showlegend": false,
         "type": "scatter",
         "x": [
          1993,
          1994,
          1995,
          1996,
          1997,
          1998,
          1999,
          2000,
          2001,
          2002,
          2003,
          2004,
          2005,
          2006,
          2007,
          2008,
          2010,
          2011,
          2012,
          2013,
          2014,
          2015,
          2016,
          2017,
          2018
         ],
         "xaxis": "x",
         "y": [
          -0.08086087056206281,
          -0.07612775736919986,
          -0.0713946441763369,
          -0.06666153098347394,
          -0.06192841779061098,
          -0.057195304597746244,
          -0.052462191404883285,
          -0.047729078212020326,
          -0.04299596501915737,
          -0.03826285182629441,
          -0.03352973863343145,
          -0.028796625440566714,
          -0.024063512247703756,
          -0.019330399054840797,
          -0.014597285861977838,
          -0.009864172669114879,
          -0.00039794628338718496,
          0.004335166909475774,
          0.009068280102338733,
          0.013801393295201692,
          0.01853450648806465,
          0.02326761968092761,
          0.028000732873792344,
          0.0327338460666553,
          0.03746695925951826
         ],
         "yaxis": "y"
        },
        {
         "hovertemplate": "variable=ww_hat<br>Year=%{x}<br>value=%{y}<extra></extra>",
         "legendgroup": "ww_hat",
         "marker": {
          "color": "#EF553B",
          "symbol": "circle"
         },
         "mode": "markers",
         "name": "ww_hat",
         "orientation": "v",
         "showlegend": true,
         "type": "scatter",
         "x": [
          1993,
          1994,
          1995,
          1996,
          1997,
          1998,
          1999,
          2000,
          2001,
          2002,
          2003,
          2004,
          2005,
          2006,
          2007,
          2008,
          2010,
          2011,
          2012,
          2013,
          2014,
          2015,
          2016,
          2017,
          2018
         ],
         "xaxis": "x",
         "y": [
          0,
          -0.001284302441609254,
          0.02678443963078099,
          0.09699400438832034,
          0.0704233742707055,
          0.01164299371493094,
          -0.052790626910153154,
          0.11476794507424617,
          0.01761018170576167,
          0.10213139974433859,
          0.049541253603623714,
          -0.03201902584250108,
          0.18100095432900165,
          0.08881969399105873,
          0.12372129366088137,
          0.14120555260097056,
          0.040411117325237625,
          -0.003656304722346927,
          0.05158379316518977,
          0.11396581298797734,
          0.018094566358451927,
          0.0010287514323503756,
          0.013054717850962008,
          0.03948038367769304,
          0.1009688679359187
         ],
         "yaxis": "y"
        },
        {
         "hovertemplate": "<b>OLS trendline</b><br>value = 0.000945337 * Year + -1.8432<br>R<sup>2</sup>=0.015832<br><br>variable=ww_hat<br>Year=%{x}<br>value=%{y} <b>(trend)</b><extra></extra>",
         "legendgroup": "ww_hat",
         "marker": {
          "color": "#EF553B",
          "symbol": "circle"
         },
         "mode": "lines",
         "name": "ww_hat",
         "showlegend": false,
         "type": "scatter",
         "x": [
          1993,
          1994,
          1995,
          1996,
          1997,
          1998,
          1999,
          2000,
          2001,
          2002,
          2003,
          2004,
          2005,
          2006,
          2007,
          2008,
          2010,
          2011,
          2012,
          2013,
          2014,
          2015,
          2016,
          2017,
          2018
         ],
         "xaxis": "x",
         "y": [
          0.04085486948056727,
          0.04180020637544635,
          0.042745543270325204,
          0.04369088016520428,
          0.04463621706008314,
          0.04558155395496222,
          0.046526890849841074,
          0.04747222774472015,
          0.04841756463959901,
          0.04936290153447809,
          0.050308238429356944,
          0.0512535753242358,
          0.05219891221911488,
          0.053144249113993736,
          0.054089586008872814,
          0.05503492290375167,
          0.056925596693509606,
          0.057870933588388684,
          0.05881627048326754,
          0.05976160737814662,
          0.060706944273025476,
          0.061652281167904555,
          0.06259761806278341,
          0.06354295495766249,
          0.06448829185254135
         ],
         "yaxis": "y"
        },
        {
         "hovertemplate": "variable=LS<br>Year=%{x}<br>value=%{y}<extra></extra>",
         "legendgroup": "LS",
         "marker": {
          "color": "#00cc96",
          "symbol": "circle"
         },
         "mode": "markers",
         "name": "LS",
         "orientation": "v",
         "showlegend": true,
         "type": "scatter",
         "x": [
          1993,
          1994,
          1995,
          1996,
          1997,
          1998,
          1999,
          2000,
          2001,
          2002,
          2003,
          2004,
          2005,
          2006,
          2007,
          2008,
          2010,
          2011,
          2012,
          2013,
          2014,
          2015,
          2016,
          2017,
          2018
         ],
         "xaxis": "x",
         "y": [
          0.80138407,
          0.80119851,
          0.8085174399999999,
          0.8086562099999999,
          0.7948125,
          0.7624517800000001,
          0.7450226500000001,
          0.7506958,
          0.7489343700000001,
          0.7528324200000001,
          0.74217086,
          0.73403779,
          0.72992048,
          0.7434608500000001,
          0.7445330099999999,
          0.74324375,
          0.7146944999999999,
          0.68636889,
          0.67513821,
          0.67010995,
          0.66623343,
          0.67500253,
          0.68378186,
          0.68567149,
          0.68658697
         ],
         "yaxis": "y"
        },
        {
         "hovertemplate": "<b>OLS trendline</b><br>value = -0.00560819 * Year + 11.9807<br>R<sup>2</sup>=0.887060<br><br>variable=LS<br>Year=%{x}<br>value=%{y} <b>(trend)</b><extra></extra>",
         "legendgroup": "LS",
         "marker": {
          "color": "#00cc96",
          "symbol": "circle"
         },
         "mode": "lines",
         "name": "LS",
         "showlegend": false,
         "type": "scatter",
         "x": [
          1993,
          1994,
          1995,
          1996,
          1997,
          1998,
          1999,
          2000,
          2001,
          2002,
          2003,
          2004,
          2005,
          2006,
          2007,
          2008,
          2010,
          2011,
          2012,
          2013,
          2014,
          2015,
          2016,
          2017,
          2018
         ],
         "xaxis": "x",
         "y": [
          0.8035355932932564,
          0.79792740716921,
          0.7923192210451617,
          0.7867110349211135,
          0.7811028487970653,
          0.775494662673017,
          0.7698864765489688,
          0.7642782904249206,
          0.7586701043008723,
          0.7530619181768241,
          0.7474537320527759,
          0.7418455459287294,
          0.7362373598046812,
          0.730629173680633,
          0.7250209875565847,
          0.7194128014325365,
          0.70819642918444,
          0.7025882430603918,
          0.6969800569363436,
          0.6913718708122953,
          0.6857636846882489,
          0.6801554985642007,
          0.6745473124401524,
          0.6689391263161042,
          0.663330940192056
         ],
         "yaxis": "y"
        },
        {
         "hovertemplate": "variable=KS<br>Year=%{x}<br>value=%{y}<extra></extra>",
         "legendgroup": "KS",
         "marker": {
          "color": "#ab63fa",
          "symbol": "circle"
         },
         "mode": "markers",
         "name": "KS",
         "orientation": "v",
         "showlegend": true,
         "type": "scatter",
         "x": [
          1993,
          1994,
          1995,
          1996,
          1997,
          1998,
          1999,
          2000,
          2001,
          2002,
          2003,
          2004,
          2005,
          2006,
          2007,
          2008,
          2010,
          2011,
          2012,
          2013,
          2014,
          2015,
          2016,
          2017,
          2018
         ],
         "xaxis": "x",
         "y": [
          0.19861593,
          0.19880149000000003,
          0.19148256000000008,
          0.19134379000000012,
          0.20518749999999997,
          0.23754821999999987,
          0.2549773499999999,
          0.24930419999999998,
          0.25106562999999993,
          0.24716757999999994,
          0.25782914,
          0.26596221,
          0.27007952,
          0.25653914999999994,
          0.25546699000000006,
          0.25675625,
          0.2853055000000001,
          0.31363111,
          0.32486179000000004,
          0.32989005000000005,
          0.33376657,
          0.32499747,
          0.31621814000000004,
          0.31432850999999995,
          0.31341303
         ],
         "yaxis": "y"
        },
        {
         "hovertemplate": "<b>OLS trendline</b><br>value = 0.00560819 * Year + -10.9807<br>R<sup>2</sup>=0.887060<br><br>variable=KS<br>Year=%{x}<br>value=%{y} <b>(trend)</b><extra></extra>",
         "legendgroup": "KS",
         "marker": {
          "color": "#ab63fa",
          "symbol": "circle"
         },
         "mode": "lines",
         "name": "KS",
         "showlegend": false,
         "type": "scatter",
         "x": [
          1993,
          1994,
          1995,
          1996,
          1997,
          1998,
          1999,
          2000,
          2001,
          2002,
          2003,
          2004,
          2005,
          2006,
          2007,
          2008,
          2010,
          2011,
          2012,
          2013,
          2014,
          2015,
          2016,
          2017,
          2018
         ],
         "xaxis": "x",
         "y": [
          0.19646440670676135,
          0.20207259283080958,
          0.20768077895485604,
          0.21328896507890427,
          0.2188971512029525,
          0.22450533732700073,
          0.23011352345104896,
          0.2357217095750972,
          0.24132989569914542,
          0.24693808182319366,
          0.2525462679472419,
          0.2581544540712901,
          0.2637626401953366,
          0.2693708263193848,
          0.27497901244343304,
          0.28058719856748127,
          0.29180357081557773,
          0.29741175693962596,
          0.3030199430636742,
          0.3086281291877224,
          0.31423631531177065,
          0.3198445014358171,
          0.32545268755986534,
          0.33106087368391357,
          0.3366690598079618
         ],
         "yaxis": "y"
        },
        {
         "hovertemplate": "variable=Dual<br>Year=%{x}<br>value=%{y}<extra></extra>",
         "legendgroup": "Dual",
         "marker": {
          "color": "#FFA15A",
          "symbol": "circle"
         },
         "mode": "markers",
         "name": "Dual",
         "orientation": "v",
         "showlegend": true,
         "type": "scatter",
         "x": [
          1993,
          1994,
          1995,
          1996,
          1997,
          1998,
          1999,
          2000,
          2001,
          2002,
          2003,
          2004,
          2005,
          2006,
          2007,
          2008,
          2010,
          2011,
          2012,
          2013,
          2014,
          2015,
          2016,
          2017,
          2018
         ],
         "xaxis": "x",
         "y": [
          0.014834643586589077,
          -0.01652996595602772,
          -0.027861009152327285,
          0.12629642216865042,
          0.0324902149911729,
          -0.13627435148973496,
          -0.08410678841979248,
          0.02040440518125783,
          -0.018983770811343358,
          0.0963807848512784,
          -0.036331083743829914,
          -0.1354155912576934,
          0.6901857322530075,
          0.12179045577742575,
          0.07184032623233444,
          -0.13337467487596935,
          -0.060404176946643934,
          -0.07672413658579842,
          0.2953492777585514,
          0.15598298286505388,
          -0.019640982018270053,
          -0.02721573728540087,
          -0.004728325263452508,
          -0.02315994125289515,
          0.06468970917685024
         ],
         "yaxis": "y"
        },
        {
         "hovertemplate": "<b>OLS trendline</b><br>value = 0.00165367 * Year + -3.28063<br>R<sup>2</sup>=0.005804<br><br>variable=Dual<br>Year=%{x}<br>value=%{y} <b>(trend)</b><extra></extra>",
         "legendgroup": "Dual",
         "marker": {
          "color": "#FFA15A",
          "symbol": "circle"
         },
         "mode": "lines",
         "name": "Dual",
         "showlegend": false,
         "type": "scatter",
         "x": [
          1993,
          1994,
          1995,
          1996,
          1997,
          1998,
          1999,
          2000,
          2001,
          2002,
          2003,
          2004,
          2005,
          2006,
          2007,
          2008,
          2010,
          2011,
          2012,
          2013,
          2014,
          2015,
          2016,
          2017,
          2018
         ],
         "xaxis": "x",
         "y": [
          0.015140408441340014,
          0.016794079019817332,
          0.01844774959829465,
          0.020101420176771967,
          0.021755090755249284,
          0.023408761333726602,
          0.025062431912203476,
          0.026716102490680793,
          0.02836977306915811,
          0.03002344364763543,
          0.031677114226112746,
          0.03333078480459006,
          0.03498445538306738,
          0.0366381259615447,
          0.038291796540022016,
          0.039945467118499334,
          0.04325280827545397,
          0.044906478853931286,
          0.046560149432408604,
          0.04821382001088548,
          0.049867490589362795,
          0.05152116116784011,
          0.05317483174631743,
          0.05482850232479475,
          0.056482172903272065
         ],
         "yaxis": "y"
        }
       ],
       "layout": {
        "legend": {
         "title": {
          "text": "variable"
         },
         "tracegroupgap": 0
        },
        "margin": {
         "t": 60
        },
        "template": {
         "data": {
          "bar": [
           {
            "error_x": {
             "color": "#2a3f5f"
            },
            "error_y": {
             "color": "#2a3f5f"
            },
            "marker": {
             "line": {
              "color": "#E5ECF6",
              "width": 0.5
             }
            },
            "type": "bar"
           }
          ],
          "barpolar": [
           {
            "marker": {
             "line": {
              "color": "#E5ECF6",
              "width": 0.5
             }
            },
            "type": "barpolar"
           }
          ],
          "carpet": [
           {
            "aaxis": {
             "endlinecolor": "#2a3f5f",
             "gridcolor": "white",
             "linecolor": "white",
             "minorgridcolor": "white",
             "startlinecolor": "#2a3f5f"
            },
            "baxis": {
             "endlinecolor": "#2a3f5f",
             "gridcolor": "white",
             "linecolor": "white",
             "minorgridcolor": "white",
             "startlinecolor": "#2a3f5f"
            },
            "type": "carpet"
           }
          ],
          "choropleth": [
           {
            "colorbar": {
             "outlinewidth": 0,
             "ticks": ""
            },
            "type": "choropleth"
           }
          ],
          "contour": [
           {
            "colorbar": {
             "outlinewidth": 0,
             "ticks": ""
            },
            "colorscale": [
             [
              0,
              "#0d0887"
             ],
             [
              0.1111111111111111,
              "#46039f"
             ],
             [
              0.2222222222222222,
              "#7201a8"
             ],
             [
              0.3333333333333333,
              "#9c179e"
             ],
             [
              0.4444444444444444,
              "#bd3786"
             ],
             [
              0.5555555555555556,
              "#d8576b"
             ],
             [
              0.6666666666666666,
              "#ed7953"
             ],
             [
              0.7777777777777778,
              "#fb9f3a"
             ],
             [
              0.8888888888888888,
              "#fdca26"
             ],
             [
              1,
              "#f0f921"
             ]
            ],
            "type": "contour"
           }
          ],
          "contourcarpet": [
           {
            "colorbar": {
             "outlinewidth": 0,
             "ticks": ""
            },
            "type": "contourcarpet"
           }
          ],
          "heatmap": [
           {
            "colorbar": {
             "outlinewidth": 0,
             "ticks": ""
            },
            "colorscale": [
             [
              0,
              "#0d0887"
             ],
             [
              0.1111111111111111,
              "#46039f"
             ],
             [
              0.2222222222222222,
              "#7201a8"
             ],
             [
              0.3333333333333333,
              "#9c179e"
             ],
             [
              0.4444444444444444,
              "#bd3786"
             ],
             [
              0.5555555555555556,
              "#d8576b"
             ],
             [
              0.6666666666666666,
              "#ed7953"
             ],
             [
              0.7777777777777778,
              "#fb9f3a"
             ],
             [
              0.8888888888888888,
              "#fdca26"
             ],
             [
              1,
              "#f0f921"
             ]
            ],
            "type": "heatmap"
           }
          ],
          "heatmapgl": [
           {
            "colorbar": {
             "outlinewidth": 0,
             "ticks": ""
            },
            "colorscale": [
             [
              0,
              "#0d0887"
             ],
             [
              0.1111111111111111,
              "#46039f"
             ],
             [
              0.2222222222222222,
              "#7201a8"
             ],
             [
              0.3333333333333333,
              "#9c179e"
             ],
             [
              0.4444444444444444,
              "#bd3786"
             ],
             [
              0.5555555555555556,
              "#d8576b"
             ],
             [
              0.6666666666666666,
              "#ed7953"
             ],
             [
              0.7777777777777778,
              "#fb9f3a"
             ],
             [
              0.8888888888888888,
              "#fdca26"
             ],
             [
              1,
              "#f0f921"
             ]
            ],
            "type": "heatmapgl"
           }
          ],
          "histogram": [
           {
            "marker": {
             "colorbar": {
              "outlinewidth": 0,
              "ticks": ""
             }
            },
            "type": "histogram"
           }
          ],
          "histogram2d": [
           {
            "colorbar": {
             "outlinewidth": 0,
             "ticks": ""
            },
            "colorscale": [
             [
              0,
              "#0d0887"
             ],
             [
              0.1111111111111111,
              "#46039f"
             ],
             [
              0.2222222222222222,
              "#7201a8"
             ],
             [
              0.3333333333333333,
              "#9c179e"
             ],
             [
              0.4444444444444444,
              "#bd3786"
             ],
             [
              0.5555555555555556,
              "#d8576b"
             ],
             [
              0.6666666666666666,
              "#ed7953"
             ],
             [
              0.7777777777777778,
              "#fb9f3a"
             ],
             [
              0.8888888888888888,
              "#fdca26"
             ],
             [
              1,
              "#f0f921"
             ]
            ],
            "type": "histogram2d"
           }
          ],
          "histogram2dcontour": [
           {
            "colorbar": {
             "outlinewidth": 0,
             "ticks": ""
            },
            "colorscale": [
             [
              0,
              "#0d0887"
             ],
             [
              0.1111111111111111,
              "#46039f"
             ],
             [
              0.2222222222222222,
              "#7201a8"
             ],
             [
              0.3333333333333333,
              "#9c179e"
             ],
             [
              0.4444444444444444,
              "#bd3786"
             ],
             [
              0.5555555555555556,
              "#d8576b"
             ],
             [
              0.6666666666666666,
              "#ed7953"
             ],
             [
              0.7777777777777778,
              "#fb9f3a"
             ],
             [
              0.8888888888888888,
              "#fdca26"
             ],
             [
              1,
              "#f0f921"
             ]
            ],
            "type": "histogram2dcontour"
           }
          ],
          "mesh3d": [
           {
            "colorbar": {
             "outlinewidth": 0,
             "ticks": ""
            },
            "type": "mesh3d"
           }
          ],
          "parcoords": [
           {
            "line": {
             "colorbar": {
              "outlinewidth": 0,
              "ticks": ""
             }
            },
            "type": "parcoords"
           }
          ],
          "pie": [
           {
            "automargin": true,
            "type": "pie"
           }
          ],
          "scatter": [
           {
            "marker": {
             "colorbar": {
              "outlinewidth": 0,
              "ticks": ""
             }
            },
            "type": "scatter"
           }
          ],
          "scatter3d": [
           {
            "line": {
             "colorbar": {
              "outlinewidth": 0,
              "ticks": ""
             }
            },
            "marker": {
             "colorbar": {
              "outlinewidth": 0,
              "ticks": ""
             }
            },
            "type": "scatter3d"
           }
          ],
          "scattercarpet": [
           {
            "marker": {
             "colorbar": {
              "outlinewidth": 0,
              "ticks": ""
             }
            },
            "type": "scattercarpet"
           }
          ],
          "scattergeo": [
           {
            "marker": {
             "colorbar": {
              "outlinewidth": 0,
              "ticks": ""
             }
            },
            "type": "scattergeo"
           }
          ],
          "scattergl": [
           {
            "marker": {
             "colorbar": {
              "outlinewidth": 0,
              "ticks": ""
             }
            },
            "type": "scattergl"
           }
          ],
          "scattermapbox": [
           {
            "marker": {
             "colorbar": {
              "outlinewidth": 0,
              "ticks": ""
             }
            },
            "type": "scattermapbox"
           }
          ],
          "scatterpolar": [
           {
            "marker": {
             "colorbar": {
              "outlinewidth": 0,
              "ticks": ""
             }
            },
            "type": "scatterpolar"
           }
          ],
          "scatterpolargl": [
           {
            "marker": {
             "colorbar": {
              "outlinewidth": 0,
              "ticks": ""
             }
            },
            "type": "scatterpolargl"
           }
          ],
          "scatterternary": [
           {
            "marker": {
             "colorbar": {
              "outlinewidth": 0,
              "ticks": ""
             }
            },
            "type": "scatterternary"
           }
          ],
          "surface": [
           {
            "colorbar": {
             "outlinewidth": 0,
             "ticks": ""
            },
            "colorscale": [
             [
              0,
              "#0d0887"
             ],
             [
              0.1111111111111111,
              "#46039f"
             ],
             [
              0.2222222222222222,
              "#7201a8"
             ],
             [
              0.3333333333333333,
              "#9c179e"
             ],
             [
              0.4444444444444444,
              "#bd3786"
             ],
             [
              0.5555555555555556,
              "#d8576b"
             ],
             [
              0.6666666666666666,
              "#ed7953"
             ],
             [
              0.7777777777777778,
              "#fb9f3a"
             ],
             [
              0.8888888888888888,
              "#fdca26"
             ],
             [
              1,
              "#f0f921"
             ]
            ],
            "type": "surface"
           }
          ],
          "table": [
           {
            "cells": {
             "fill": {
              "color": "#EBF0F8"
             },
             "line": {
              "color": "white"
             }
            },
            "header": {
             "fill": {
              "color": "#C8D4E3"
             },
             "line": {
              "color": "white"
             }
            },
            "type": "table"
           }
          ]
         },
         "layout": {
          "annotationdefaults": {
           "arrowcolor": "#2a3f5f",
           "arrowhead": 0,
           "arrowwidth": 1
          },
          "coloraxis": {
           "colorbar": {
            "outlinewidth": 0,
            "ticks": ""
           }
          },
          "colorscale": {
           "diverging": [
            [
             0,
             "#8e0152"
            ],
            [
             0.1,
             "#c51b7d"
            ],
            [
             0.2,
             "#de77ae"
            ],
            [
             0.3,
             "#f1b6da"
            ],
            [
             0.4,
             "#fde0ef"
            ],
            [
             0.5,
             "#f7f7f7"
            ],
            [
             0.6,
             "#e6f5d0"
            ],
            [
             0.7,
             "#b8e186"
            ],
            [
             0.8,
             "#7fbc41"
            ],
            [
             0.9,
             "#4d9221"
            ],
            [
             1,
             "#276419"
            ]
           ],
           "sequential": [
            [
             0,
             "#0d0887"
            ],
            [
             0.1111111111111111,
             "#46039f"
            ],
            [
             0.2222222222222222,
             "#7201a8"
            ],
            [
             0.3333333333333333,
             "#9c179e"
            ],
            [
             0.4444444444444444,
             "#bd3786"
            ],
            [
             0.5555555555555556,
             "#d8576b"
            ],
            [
             0.6666666666666666,
             "#ed7953"
            ],
            [
             0.7777777777777778,
             "#fb9f3a"
            ],
            [
             0.8888888888888888,
             "#fdca26"
            ],
            [
             1,
             "#f0f921"
            ]
           ],
           "sequentialminus": [
            [
             0,
             "#0d0887"
            ],
            [
             0.1111111111111111,
             "#46039f"
            ],
            [
             0.2222222222222222,
             "#7201a8"
            ],
            [
             0.3333333333333333,
             "#9c179e"
            ],
            [
             0.4444444444444444,
             "#bd3786"
            ],
            [
             0.5555555555555556,
             "#d8576b"
            ],
            [
             0.6666666666666666,
             "#ed7953"
            ],
            [
             0.7777777777777778,
             "#fb9f3a"
            ],
            [
             0.8888888888888888,
             "#fdca26"
            ],
            [
             1,
             "#f0f921"
            ]
           ]
          },
          "colorway": [
           "#636efa",
           "#EF553B",
           "#00cc96",
           "#ab63fa",
           "#FFA15A",
           "#19d3f3",
           "#FF6692",
           "#B6E880",
           "#FF97FF",
           "#FECB52"
          ],
          "font": {
           "color": "#2a3f5f"
          },
          "geo": {
           "bgcolor": "white",
           "lakecolor": "white",
           "landcolor": "#E5ECF6",
           "showlakes": true,
           "showland": true,
           "subunitcolor": "white"
          },
          "hoverlabel": {
           "align": "left"
          },
          "hovermode": "closest",
          "mapbox": {
           "style": "light"
          },
          "paper_bgcolor": "white",
          "plot_bgcolor": "#E5ECF6",
          "polar": {
           "angularaxis": {
            "gridcolor": "white",
            "linecolor": "white",
            "ticks": ""
           },
           "bgcolor": "#E5ECF6",
           "radialaxis": {
            "gridcolor": "white",
            "linecolor": "white",
            "ticks": ""
           }
          },
          "scene": {
           "xaxis": {
            "backgroundcolor": "#E5ECF6",
            "gridcolor": "white",
            "gridwidth": 2,
            "linecolor": "white",
            "showbackground": true,
            "ticks": "",
            "zerolinecolor": "white"
           },
           "yaxis": {
            "backgroundcolor": "#E5ECF6",
            "gridcolor": "white",
            "gridwidth": 2,
            "linecolor": "white",
            "showbackground": true,
            "ticks": "",
            "zerolinecolor": "white"
           },
           "zaxis": {
            "backgroundcolor": "#E5ECF6",
            "gridcolor": "white",
            "gridwidth": 2,
            "linecolor": "white",
            "showbackground": true,
            "ticks": "",
            "zerolinecolor": "white"
           }
          },
          "shapedefaults": {
           "line": {
            "color": "#2a3f5f"
           }
          },
          "ternary": {
           "aaxis": {
            "gridcolor": "white",
            "linecolor": "white",
            "ticks": ""
           },
           "baxis": {
            "gridcolor": "white",
            "linecolor": "white",
            "ticks": ""
           },
           "bgcolor": "#E5ECF6",
           "caxis": {
            "gridcolor": "white",
            "linecolor": "white",
            "ticks": ""
           }
          },
          "title": {
           "x": 0.05
          },
          "xaxis": {
           "automargin": true,
           "gridcolor": "white",
           "linecolor": "white",
           "ticks": "",
           "title": {
            "standoff": 15
           },
           "zerolinecolor": "white",
           "zerolinewidth": 2
          },
          "yaxis": {
           "automargin": true,
           "gridcolor": "white",
           "linecolor": "white",
           "ticks": "",
           "title": {
            "standoff": 15
           },
           "zerolinecolor": "white",
           "zerolinewidth": 2
          }
         }
        },
        "xaxis": {
         "anchor": "y",
         "domain": [
          0,
          1
         ],
         "title": {
          "text": "Year"
         }
        },
        "yaxis": {
         "anchor": "x",
         "domain": [
          0,
          1
         ],
         "title": {
          "text": "value"
         }
        }
       }
      },
      "text/html": [
       "<div>\n",
       "        \n",
       "        \n",
       "            <div id=\"516a3476-5df8-4df8-a419-4bdfa1f24bab\" class=\"plotly-graph-div\" style=\"height:525px; width:100%;\"></div>\n",
       "            <script type=\"text/javascript\">\n",
       "                require([\"plotly\"], function(Plotly) {\n",
       "                    window.PLOTLYENV=window.PLOTLYENV || {};\n",
       "                    \n",
       "                if (document.getElementById(\"516a3476-5df8-4df8-a419-4bdfa1f24bab\")) {\n",
       "                    Plotly.newPlot(\n",
       "                        '516a3476-5df8-4df8-a419-4bdfa1f24bab',\n",
       "                        [{\"hovertemplate\": \"variable=wr_hat<br>Year=%{x}<br>value=%{y}<extra></extra>\", \"legendgroup\": \"wr_hat\", \"marker\": {\"color\": \"#636efa\", \"symbol\": \"circle\"}, \"mode\": \"markers\", \"name\": \"wr_hat\", \"orientation\": \"v\", \"showlegend\": true, \"type\": \"scatter\", \"x\": [1993, 1994, 1995, 1996, 1997, 1998, 1999, 2000, 2001, 2002, 2003, 2004, 2005, 2006, 2007, 2008, 2010, 2011, 2012, 2013, 2014, 2015, 2016, 2017, 2018], \"xaxis\": \"x\", \"y\": [0.07469009956345937, -0.07797217592997427, -0.258596374074176, 0.25013416002300315, -0.11444733802674248, -0.6110404564269645, -0.1756100126698661, -0.2637396769112172, -0.12814434676994024, 0.07886534319654946, -0.28351783098027405, -0.42078314919368065, 2.066315242224677, 0.2173410591954224, -0.07936156815444327, -0.9282142861641614, -0.31294798115650047, -0.23663010589740097, 0.8019505401850889, 0.24133300662439208, -0.0949651339486279, -0.0858780442351705, -0.0431819139703956, -0.1598026050992022, -0.01478623886059342], \"yaxis\": \"y\"}, {\"hovertemplate\": \"<b>OLS trendline</b><br>value = 0.00473311 * Year + -9.51396<br>R<sup>2</sup>=0.004653<br><br>variable=wr_hat<br>Year=%{x}<br>value=%{y} <b>(trend)</b><extra></extra>\", \"legendgroup\": \"wr_hat\", \"marker\": {\"color\": \"#636efa\", \"symbol\": \"circle\"}, \"mode\": \"lines\", \"name\": \"wr_hat\", \"showlegend\": false, \"type\": \"scatter\", \"x\": [1993, 1994, 1995, 1996, 1997, 1998, 1999, 2000, 2001, 2002, 2003, 2004, 2005, 2006, 2007, 2008, 2010, 2011, 2012, 2013, 2014, 2015, 2016, 2017, 2018], \"xaxis\": \"x\", \"y\": [-0.08086087056206281, -0.07612775736919986, -0.0713946441763369, -0.06666153098347394, -0.06192841779061098, -0.057195304597746244, -0.052462191404883285, -0.047729078212020326, -0.04299596501915737, -0.03826285182629441, -0.03352973863343145, -0.028796625440566714, -0.024063512247703756, -0.019330399054840797, -0.014597285861977838, -0.009864172669114879, -0.00039794628338718496, 0.004335166909475774, 0.009068280102338733, 0.013801393295201692, 0.01853450648806465, 0.02326761968092761, 0.028000732873792344, 0.0327338460666553, 0.03746695925951826], \"yaxis\": \"y\"}, {\"hovertemplate\": \"variable=ww_hat<br>Year=%{x}<br>value=%{y}<extra></extra>\", \"legendgroup\": \"ww_hat\", \"marker\": {\"color\": \"#EF553B\", \"symbol\": \"circle\"}, \"mode\": \"markers\", \"name\": \"ww_hat\", \"orientation\": \"v\", \"showlegend\": true, \"type\": \"scatter\", \"x\": [1993, 1994, 1995, 1996, 1997, 1998, 1999, 2000, 2001, 2002, 2003, 2004, 2005, 2006, 2007, 2008, 2010, 2011, 2012, 2013, 2014, 2015, 2016, 2017, 2018], \"xaxis\": \"x\", \"y\": [0.0, -0.001284302441609254, 0.02678443963078099, 0.09699400438832034, 0.0704233742707055, 0.01164299371493094, -0.052790626910153154, 0.11476794507424617, 0.01761018170576167, 0.10213139974433859, 0.049541253603623714, -0.03201902584250108, 0.18100095432900165, 0.08881969399105873, 0.12372129366088137, 0.14120555260097056, 0.040411117325237625, -0.003656304722346927, 0.05158379316518977, 0.11396581298797734, 0.018094566358451927, 0.0010287514323503756, 0.013054717850962008, 0.03948038367769304, 0.1009688679359187], \"yaxis\": \"y\"}, {\"hovertemplate\": \"<b>OLS trendline</b><br>value = 0.000945337 * Year + -1.8432<br>R<sup>2</sup>=0.015832<br><br>variable=ww_hat<br>Year=%{x}<br>value=%{y} <b>(trend)</b><extra></extra>\", \"legendgroup\": \"ww_hat\", \"marker\": {\"color\": \"#EF553B\", \"symbol\": \"circle\"}, \"mode\": \"lines\", \"name\": \"ww_hat\", \"showlegend\": false, \"type\": \"scatter\", \"x\": [1993, 1994, 1995, 1996, 1997, 1998, 1999, 2000, 2001, 2002, 2003, 2004, 2005, 2006, 2007, 2008, 2010, 2011, 2012, 2013, 2014, 2015, 2016, 2017, 2018], \"xaxis\": \"x\", \"y\": [0.04085486948056727, 0.04180020637544635, 0.042745543270325204, 0.04369088016520428, 0.04463621706008314, 0.04558155395496222, 0.046526890849841074, 0.04747222774472015, 0.04841756463959901, 0.04936290153447809, 0.050308238429356944, 0.0512535753242358, 0.05219891221911488, 0.053144249113993736, 0.054089586008872814, 0.05503492290375167, 0.056925596693509606, 0.057870933588388684, 0.05881627048326754, 0.05976160737814662, 0.060706944273025476, 0.061652281167904555, 0.06259761806278341, 0.06354295495766249, 0.06448829185254135], \"yaxis\": \"y\"}, {\"hovertemplate\": \"variable=LS<br>Year=%{x}<br>value=%{y}<extra></extra>\", \"legendgroup\": \"LS\", \"marker\": {\"color\": \"#00cc96\", \"symbol\": \"circle\"}, \"mode\": \"markers\", \"name\": \"LS\", \"orientation\": \"v\", \"showlegend\": true, \"type\": \"scatter\", \"x\": [1993, 1994, 1995, 1996, 1997, 1998, 1999, 2000, 2001, 2002, 2003, 2004, 2005, 2006, 2007, 2008, 2010, 2011, 2012, 2013, 2014, 2015, 2016, 2017, 2018], \"xaxis\": \"x\", \"y\": [0.80138407, 0.80119851, 0.8085174399999999, 0.8086562099999999, 0.7948125, 0.7624517800000001, 0.7450226500000001, 0.7506958, 0.7489343700000001, 0.7528324200000001, 0.74217086, 0.73403779, 0.72992048, 0.7434608500000001, 0.7445330099999999, 0.74324375, 0.7146944999999999, 0.68636889, 0.67513821, 0.67010995, 0.66623343, 0.67500253, 0.68378186, 0.68567149, 0.68658697], \"yaxis\": \"y\"}, {\"hovertemplate\": \"<b>OLS trendline</b><br>value = -0.00560819 * Year + 11.9807<br>R<sup>2</sup>=0.887060<br><br>variable=LS<br>Year=%{x}<br>value=%{y} <b>(trend)</b><extra></extra>\", \"legendgroup\": \"LS\", \"marker\": {\"color\": \"#00cc96\", \"symbol\": \"circle\"}, \"mode\": \"lines\", \"name\": \"LS\", \"showlegend\": false, \"type\": \"scatter\", \"x\": [1993, 1994, 1995, 1996, 1997, 1998, 1999, 2000, 2001, 2002, 2003, 2004, 2005, 2006, 2007, 2008, 2010, 2011, 2012, 2013, 2014, 2015, 2016, 2017, 2018], \"xaxis\": \"x\", \"y\": [0.8035355932932564, 0.79792740716921, 0.7923192210451617, 0.7867110349211135, 0.7811028487970653, 0.775494662673017, 0.7698864765489688, 0.7642782904249206, 0.7586701043008723, 0.7530619181768241, 0.7474537320527759, 0.7418455459287294, 0.7362373598046812, 0.730629173680633, 0.7250209875565847, 0.7194128014325365, 0.70819642918444, 0.7025882430603918, 0.6969800569363436, 0.6913718708122953, 0.6857636846882489, 0.6801554985642007, 0.6745473124401524, 0.6689391263161042, 0.663330940192056], \"yaxis\": \"y\"}, {\"hovertemplate\": \"variable=KS<br>Year=%{x}<br>value=%{y}<extra></extra>\", \"legendgroup\": \"KS\", \"marker\": {\"color\": \"#ab63fa\", \"symbol\": \"circle\"}, \"mode\": \"markers\", \"name\": \"KS\", \"orientation\": \"v\", \"showlegend\": true, \"type\": \"scatter\", \"x\": [1993, 1994, 1995, 1996, 1997, 1998, 1999, 2000, 2001, 2002, 2003, 2004, 2005, 2006, 2007, 2008, 2010, 2011, 2012, 2013, 2014, 2015, 2016, 2017, 2018], \"xaxis\": \"x\", \"y\": [0.19861593, 0.19880149000000003, 0.19148256000000008, 0.19134379000000012, 0.20518749999999997, 0.23754821999999987, 0.2549773499999999, 0.24930419999999998, 0.25106562999999993, 0.24716757999999994, 0.25782914, 0.26596221, 0.27007952, 0.25653914999999994, 0.25546699000000006, 0.25675625, 0.2853055000000001, 0.31363111, 0.32486179000000004, 0.32989005000000005, 0.33376657, 0.32499747, 0.31621814000000004, 0.31432850999999995, 0.31341303], \"yaxis\": \"y\"}, {\"hovertemplate\": \"<b>OLS trendline</b><br>value = 0.00560819 * Year + -10.9807<br>R<sup>2</sup>=0.887060<br><br>variable=KS<br>Year=%{x}<br>value=%{y} <b>(trend)</b><extra></extra>\", \"legendgroup\": \"KS\", \"marker\": {\"color\": \"#ab63fa\", \"symbol\": \"circle\"}, \"mode\": \"lines\", \"name\": \"KS\", \"showlegend\": false, \"type\": \"scatter\", \"x\": [1993, 1994, 1995, 1996, 1997, 1998, 1999, 2000, 2001, 2002, 2003, 2004, 2005, 2006, 2007, 2008, 2010, 2011, 2012, 2013, 2014, 2015, 2016, 2017, 2018], \"xaxis\": \"x\", \"y\": [0.19646440670676135, 0.20207259283080958, 0.20768077895485604, 0.21328896507890427, 0.2188971512029525, 0.22450533732700073, 0.23011352345104896, 0.2357217095750972, 0.24132989569914542, 0.24693808182319366, 0.2525462679472419, 0.2581544540712901, 0.2637626401953366, 0.2693708263193848, 0.27497901244343304, 0.28058719856748127, 0.29180357081557773, 0.29741175693962596, 0.3030199430636742, 0.3086281291877224, 0.31423631531177065, 0.3198445014358171, 0.32545268755986534, 0.33106087368391357, 0.3366690598079618], \"yaxis\": \"y\"}, {\"hovertemplate\": \"variable=Dual<br>Year=%{x}<br>value=%{y}<extra></extra>\", \"legendgroup\": \"Dual\", \"marker\": {\"color\": \"#FFA15A\", \"symbol\": \"circle\"}, \"mode\": \"markers\", \"name\": \"Dual\", \"orientation\": \"v\", \"showlegend\": true, \"type\": \"scatter\", \"x\": [1993, 1994, 1995, 1996, 1997, 1998, 1999, 2000, 2001, 2002, 2003, 2004, 2005, 2006, 2007, 2008, 2010, 2011, 2012, 2013, 2014, 2015, 2016, 2017, 2018], \"xaxis\": \"x\", \"y\": [0.014834643586589077, -0.01652996595602772, -0.027861009152327285, 0.12629642216865042, 0.0324902149911729, -0.13627435148973496, -0.08410678841979248, 0.02040440518125783, -0.018983770811343358, 0.0963807848512784, -0.036331083743829914, -0.1354155912576934, 0.6901857322530075, 0.12179045577742575, 0.07184032623233444, -0.13337467487596935, -0.060404176946643934, -0.07672413658579842, 0.2953492777585514, 0.15598298286505388, -0.019640982018270053, -0.02721573728540087, -0.004728325263452508, -0.02315994125289515, 0.06468970917685024], \"yaxis\": \"y\"}, {\"hovertemplate\": \"<b>OLS trendline</b><br>value = 0.00165367 * Year + -3.28063<br>R<sup>2</sup>=0.005804<br><br>variable=Dual<br>Year=%{x}<br>value=%{y} <b>(trend)</b><extra></extra>\", \"legendgroup\": \"Dual\", \"marker\": {\"color\": \"#FFA15A\", \"symbol\": \"circle\"}, \"mode\": \"lines\", \"name\": \"Dual\", \"showlegend\": false, \"type\": \"scatter\", \"x\": [1993, 1994, 1995, 1996, 1997, 1998, 1999, 2000, 2001, 2002, 2003, 2004, 2005, 2006, 2007, 2008, 2010, 2011, 2012, 2013, 2014, 2015, 2016, 2017, 2018], \"xaxis\": \"x\", \"y\": [0.015140408441340014, 0.016794079019817332, 0.01844774959829465, 0.020101420176771967, 0.021755090755249284, 0.023408761333726602, 0.025062431912203476, 0.026716102490680793, 0.02836977306915811, 0.03002344364763543, 0.031677114226112746, 0.03333078480459006, 0.03498445538306738, 0.0366381259615447, 0.038291796540022016, 0.039945467118499334, 0.04325280827545397, 0.044906478853931286, 0.046560149432408604, 0.04821382001088548, 0.049867490589362795, 0.05152116116784011, 0.05317483174631743, 0.05482850232479475, 0.056482172903272065], \"yaxis\": \"y\"}],\n",
       "                        {\"legend\": {\"title\": {\"text\": \"variable\"}, \"tracegroupgap\": 0}, \"margin\": {\"t\": 60}, \"template\": {\"data\": {\"bar\": [{\"error_x\": {\"color\": \"#2a3f5f\"}, \"error_y\": {\"color\": \"#2a3f5f\"}, \"marker\": {\"line\": {\"color\": \"#E5ECF6\", \"width\": 0.5}}, \"type\": \"bar\"}], \"barpolar\": [{\"marker\": {\"line\": {\"color\": \"#E5ECF6\", \"width\": 0.5}}, \"type\": \"barpolar\"}], \"carpet\": [{\"aaxis\": {\"endlinecolor\": \"#2a3f5f\", \"gridcolor\": \"white\", \"linecolor\": \"white\", \"minorgridcolor\": \"white\", \"startlinecolor\": \"#2a3f5f\"}, \"baxis\": {\"endlinecolor\": \"#2a3f5f\", \"gridcolor\": \"white\", \"linecolor\": \"white\", \"minorgridcolor\": \"white\", \"startlinecolor\": \"#2a3f5f\"}, \"type\": \"carpet\"}], \"choropleth\": [{\"colorbar\": {\"outlinewidth\": 0, \"ticks\": \"\"}, \"type\": \"choropleth\"}], \"contour\": [{\"colorbar\": {\"outlinewidth\": 0, \"ticks\": \"\"}, \"colorscale\": [[0.0, \"#0d0887\"], [0.1111111111111111, \"#46039f\"], [0.2222222222222222, \"#7201a8\"], [0.3333333333333333, \"#9c179e\"], [0.4444444444444444, \"#bd3786\"], [0.5555555555555556, \"#d8576b\"], [0.6666666666666666, \"#ed7953\"], [0.7777777777777778, \"#fb9f3a\"], [0.8888888888888888, \"#fdca26\"], [1.0, \"#f0f921\"]], \"type\": \"contour\"}], \"contourcarpet\": [{\"colorbar\": {\"outlinewidth\": 0, \"ticks\": \"\"}, \"type\": \"contourcarpet\"}], \"heatmap\": [{\"colorbar\": {\"outlinewidth\": 0, \"ticks\": \"\"}, \"colorscale\": [[0.0, \"#0d0887\"], [0.1111111111111111, \"#46039f\"], [0.2222222222222222, \"#7201a8\"], [0.3333333333333333, \"#9c179e\"], [0.4444444444444444, \"#bd3786\"], [0.5555555555555556, \"#d8576b\"], [0.6666666666666666, \"#ed7953\"], [0.7777777777777778, \"#fb9f3a\"], [0.8888888888888888, \"#fdca26\"], [1.0, \"#f0f921\"]], \"type\": \"heatmap\"}], \"heatmapgl\": [{\"colorbar\": {\"outlinewidth\": 0, \"ticks\": \"\"}, \"colorscale\": [[0.0, \"#0d0887\"], [0.1111111111111111, \"#46039f\"], [0.2222222222222222, \"#7201a8\"], [0.3333333333333333, \"#9c179e\"], [0.4444444444444444, \"#bd3786\"], [0.5555555555555556, \"#d8576b\"], [0.6666666666666666, \"#ed7953\"], [0.7777777777777778, \"#fb9f3a\"], [0.8888888888888888, \"#fdca26\"], [1.0, \"#f0f921\"]], \"type\": \"heatmapgl\"}], \"histogram\": [{\"marker\": {\"colorbar\": {\"outlinewidth\": 0, \"ticks\": \"\"}}, \"type\": \"histogram\"}], \"histogram2d\": [{\"colorbar\": {\"outlinewidth\": 0, \"ticks\": \"\"}, \"colorscale\": [[0.0, \"#0d0887\"], [0.1111111111111111, \"#46039f\"], [0.2222222222222222, \"#7201a8\"], [0.3333333333333333, \"#9c179e\"], [0.4444444444444444, \"#bd3786\"], [0.5555555555555556, \"#d8576b\"], [0.6666666666666666, \"#ed7953\"], [0.7777777777777778, \"#fb9f3a\"], [0.8888888888888888, \"#fdca26\"], [1.0, \"#f0f921\"]], \"type\": \"histogram2d\"}], \"histogram2dcontour\": [{\"colorbar\": {\"outlinewidth\": 0, \"ticks\": \"\"}, \"colorscale\": [[0.0, \"#0d0887\"], [0.1111111111111111, \"#46039f\"], [0.2222222222222222, \"#7201a8\"], [0.3333333333333333, \"#9c179e\"], [0.4444444444444444, \"#bd3786\"], [0.5555555555555556, \"#d8576b\"], [0.6666666666666666, \"#ed7953\"], [0.7777777777777778, \"#fb9f3a\"], [0.8888888888888888, \"#fdca26\"], [1.0, \"#f0f921\"]], \"type\": \"histogram2dcontour\"}], \"mesh3d\": [{\"colorbar\": {\"outlinewidth\": 0, \"ticks\": \"\"}, \"type\": \"mesh3d\"}], \"parcoords\": [{\"line\": {\"colorbar\": {\"outlinewidth\": 0, \"ticks\": \"\"}}, \"type\": \"parcoords\"}], \"pie\": [{\"automargin\": true, \"type\": \"pie\"}], \"scatter\": [{\"marker\": {\"colorbar\": {\"outlinewidth\": 0, \"ticks\": \"\"}}, \"type\": \"scatter\"}], \"scatter3d\": [{\"line\": {\"colorbar\": {\"outlinewidth\": 0, \"ticks\": \"\"}}, \"marker\": {\"colorbar\": {\"outlinewidth\": 0, \"ticks\": \"\"}}, \"type\": \"scatter3d\"}], \"scattercarpet\": [{\"marker\": {\"colorbar\": {\"outlinewidth\": 0, \"ticks\": \"\"}}, \"type\": \"scattercarpet\"}], \"scattergeo\": [{\"marker\": {\"colorbar\": {\"outlinewidth\": 0, \"ticks\": \"\"}}, \"type\": \"scattergeo\"}], \"scattergl\": [{\"marker\": {\"colorbar\": {\"outlinewidth\": 0, \"ticks\": \"\"}}, \"type\": \"scattergl\"}], \"scattermapbox\": [{\"marker\": {\"colorbar\": {\"outlinewidth\": 0, \"ticks\": \"\"}}, \"type\": \"scattermapbox\"}], \"scatterpolar\": [{\"marker\": {\"colorbar\": {\"outlinewidth\": 0, \"ticks\": \"\"}}, \"type\": \"scatterpolar\"}], \"scatterpolargl\": [{\"marker\": {\"colorbar\": {\"outlinewidth\": 0, \"ticks\": \"\"}}, \"type\": \"scatterpolargl\"}], \"scatterternary\": [{\"marker\": {\"colorbar\": {\"outlinewidth\": 0, \"ticks\": \"\"}}, \"type\": \"scatterternary\"}], \"surface\": [{\"colorbar\": {\"outlinewidth\": 0, \"ticks\": \"\"}, \"colorscale\": [[0.0, \"#0d0887\"], [0.1111111111111111, \"#46039f\"], [0.2222222222222222, \"#7201a8\"], [0.3333333333333333, \"#9c179e\"], [0.4444444444444444, \"#bd3786\"], [0.5555555555555556, \"#d8576b\"], [0.6666666666666666, \"#ed7953\"], [0.7777777777777778, \"#fb9f3a\"], [0.8888888888888888, \"#fdca26\"], [1.0, \"#f0f921\"]], \"type\": \"surface\"}], \"table\": [{\"cells\": {\"fill\": {\"color\": \"#EBF0F8\"}, \"line\": {\"color\": \"white\"}}, \"header\": {\"fill\": {\"color\": \"#C8D4E3\"}, \"line\": {\"color\": \"white\"}}, \"type\": \"table\"}]}, \"layout\": {\"annotationdefaults\": {\"arrowcolor\": \"#2a3f5f\", \"arrowhead\": 0, \"arrowwidth\": 1}, \"coloraxis\": {\"colorbar\": {\"outlinewidth\": 0, \"ticks\": \"\"}}, \"colorscale\": {\"diverging\": [[0, \"#8e0152\"], [0.1, \"#c51b7d\"], [0.2, \"#de77ae\"], [0.3, \"#f1b6da\"], [0.4, \"#fde0ef\"], [0.5, \"#f7f7f7\"], [0.6, \"#e6f5d0\"], [0.7, \"#b8e186\"], [0.8, \"#7fbc41\"], [0.9, \"#4d9221\"], [1, \"#276419\"]], \"sequential\": [[0.0, \"#0d0887\"], [0.1111111111111111, \"#46039f\"], [0.2222222222222222, \"#7201a8\"], [0.3333333333333333, \"#9c179e\"], [0.4444444444444444, \"#bd3786\"], [0.5555555555555556, \"#d8576b\"], [0.6666666666666666, \"#ed7953\"], [0.7777777777777778, \"#fb9f3a\"], [0.8888888888888888, \"#fdca26\"], [1.0, \"#f0f921\"]], \"sequentialminus\": [[0.0, \"#0d0887\"], [0.1111111111111111, \"#46039f\"], [0.2222222222222222, \"#7201a8\"], [0.3333333333333333, \"#9c179e\"], [0.4444444444444444, \"#bd3786\"], [0.5555555555555556, \"#d8576b\"], [0.6666666666666666, \"#ed7953\"], [0.7777777777777778, \"#fb9f3a\"], [0.8888888888888888, \"#fdca26\"], [1.0, \"#f0f921\"]]}, \"colorway\": [\"#636efa\", \"#EF553B\", \"#00cc96\", \"#ab63fa\", \"#FFA15A\", \"#19d3f3\", \"#FF6692\", \"#B6E880\", \"#FF97FF\", \"#FECB52\"], \"font\": {\"color\": \"#2a3f5f\"}, \"geo\": {\"bgcolor\": \"white\", \"lakecolor\": \"white\", \"landcolor\": \"#E5ECF6\", \"showlakes\": true, \"showland\": true, \"subunitcolor\": \"white\"}, \"hoverlabel\": {\"align\": \"left\"}, \"hovermode\": \"closest\", \"mapbox\": {\"style\": \"light\"}, \"paper_bgcolor\": \"white\", \"plot_bgcolor\": \"#E5ECF6\", \"polar\": {\"angularaxis\": {\"gridcolor\": \"white\", \"linecolor\": \"white\", \"ticks\": \"\"}, \"bgcolor\": \"#E5ECF6\", \"radialaxis\": {\"gridcolor\": \"white\", \"linecolor\": \"white\", \"ticks\": \"\"}}, \"scene\": {\"xaxis\": {\"backgroundcolor\": \"#E5ECF6\", \"gridcolor\": \"white\", \"gridwidth\": 2, \"linecolor\": \"white\", \"showbackground\": true, \"ticks\": \"\", \"zerolinecolor\": \"white\"}, \"yaxis\": {\"backgroundcolor\": \"#E5ECF6\", \"gridcolor\": \"white\", \"gridwidth\": 2, \"linecolor\": \"white\", \"showbackground\": true, \"ticks\": \"\", \"zerolinecolor\": \"white\"}, \"zaxis\": {\"backgroundcolor\": \"#E5ECF6\", \"gridcolor\": \"white\", \"gridwidth\": 2, \"linecolor\": \"white\", \"showbackground\": true, \"ticks\": \"\", \"zerolinecolor\": \"white\"}}, \"shapedefaults\": {\"line\": {\"color\": \"#2a3f5f\"}}, \"ternary\": {\"aaxis\": {\"gridcolor\": \"white\", \"linecolor\": \"white\", \"ticks\": \"\"}, \"baxis\": {\"gridcolor\": \"white\", \"linecolor\": \"white\", \"ticks\": \"\"}, \"bgcolor\": \"#E5ECF6\", \"caxis\": {\"gridcolor\": \"white\", \"linecolor\": \"white\", \"ticks\": \"\"}}, \"title\": {\"x\": 0.05}, \"xaxis\": {\"automargin\": true, \"gridcolor\": \"white\", \"linecolor\": \"white\", \"ticks\": \"\", \"title\": {\"standoff\": 15}, \"zerolinecolor\": \"white\", \"zerolinewidth\": 2}, \"yaxis\": {\"automargin\": true, \"gridcolor\": \"white\", \"linecolor\": \"white\", \"ticks\": \"\", \"title\": {\"standoff\": 15}, \"zerolinecolor\": \"white\", \"zerolinewidth\": 2}}}, \"xaxis\": {\"anchor\": \"y\", \"domain\": [0.0, 1.0], \"title\": {\"text\": \"Year\"}}, \"yaxis\": {\"anchor\": \"x\", \"domain\": [0.0, 1.0], \"title\": {\"text\": \"value\"}}},\n",
       "                        {\"responsive\": true}\n",
       "                    ).then(function(){\n",
       "                            \n",
       "var gd = document.getElementById('516a3476-5df8-4df8-a419-4bdfa1f24bab');\n",
       "var x = new MutationObserver(function (mutations, observer) {{\n",
       "        var display = window.getComputedStyle(gd).display;\n",
       "        if (!display || display === 'none') {{\n",
       "            console.log([gd, 'removed!']);\n",
       "            Plotly.purge(gd);\n",
       "            observer.disconnect();\n",
       "        }}\n",
       "}});\n",
       "\n",
       "// Listen for the removal of the full notebook cells\n",
       "var notebookContainer = gd.closest('#notebook-container');\n",
       "if (notebookContainer) {{\n",
       "    x.observe(notebookContainer, {childList: true});\n",
       "}}\n",
       "\n",
       "// Listen for the clearing of the current output cell\n",
       "var outputEl = gd.closest('.output');\n",
       "if (outputEl) {{\n",
       "    x.observe(outputEl, {childList: true});\n",
       "}}\n",
       "\n",
       "                        })\n",
       "                };\n",
       "                });\n",
       "            </script>\n",
       "        </div>"
      ]
     },
     "metadata": {},
     "output_type": "display_data"
    }
   ],
   "source": [
    "px.scatter(dual.reset_index().melt(id_vars='Year'), x='Year', y='value', color='variable', trendline='ols')"
   ]
  },
  {
   "cell_type": "code",
   "execution_count": 72,
   "metadata": {},
   "outputs": [],
   "source": [
    "tfpg = pd.concat([primal['Primal'], dual['Dual']], axis=1)"
   ]
  },
  {
   "cell_type": "code",
   "execution_count": 74,
   "metadata": {},
   "outputs": [
    {
     "data": {
      "application/vnd.plotly.v1+json": {
       "config": {
        "plotlyServerURL": "https://plot.ly"
       },
       "data": [
        {
         "hovertemplate": "variable=Primal<br>Year=%{x}<br>value=%{y}<extra></extra>",
         "legendgroup": "Primal",
         "line": {
          "color": "#636efa",
          "dash": "solid"
         },
         "mode": "lines",
         "name": "Primal",
         "orientation": "v",
         "showlegend": true,
         "type": "scatter",
         "x": [
          1993,
          1994,
          1995,
          1996,
          1997,
          1998,
          1999,
          2000,
          2001,
          2002,
          2003,
          2004,
          2005,
          2006,
          2007,
          2008,
          2010,
          2011,
          2012,
          2013,
          2014,
          2015,
          2016,
          2017,
          2018
         ],
         "xaxis": "x",
         "y": [
          0.04524283612227403,
          0.11784683243706276,
          0.03416357914800795,
          0.07676640853815503,
          0.08815921371449943,
          0.010967958036626223,
          -0.25782318894522327,
          -0.006453515701662874,
          0.06806330897467039,
          0.02121962719505506,
          -0.01716425474775591,
          -0.29131346368988953,
          0.24379157083444442,
          -0.014947391506336956,
          -0.02334194091079582,
          -0.4791221339314768,
          0.05016181874664988,
          0.03719945046087587,
          0.017623131306012483,
          0.072055075254144,
          -0.07133348791744706,
          -0.06129055088214909,
          -0.006223512433186838,
          -0.04509695408937357,
          0.043615069056086364
         ],
         "yaxis": "y"
        },
        {
         "hovertemplate": "variable=Dual<br>Year=%{x}<br>value=%{y}<extra></extra>",
         "legendgroup": "Dual",
         "line": {
          "color": "#EF553B",
          "dash": "solid"
         },
         "mode": "lines",
         "name": "Dual",
         "orientation": "v",
         "showlegend": true,
         "type": "scatter",
         "x": [
          1993,
          1994,
          1995,
          1996,
          1997,
          1998,
          1999,
          2000,
          2001,
          2002,
          2003,
          2004,
          2005,
          2006,
          2007,
          2008,
          2010,
          2011,
          2012,
          2013,
          2014,
          2015,
          2016,
          2017,
          2018
         ],
         "xaxis": "x",
         "y": [
          0.014834643586589077,
          -0.01652996595602772,
          -0.027861009152327285,
          0.12629642216865042,
          0.0324902149911729,
          -0.13627435148973496,
          -0.08410678841979248,
          0.02040440518125783,
          -0.018983770811343358,
          0.0963807848512784,
          -0.036331083743829914,
          -0.1354155912576934,
          0.6901857322530075,
          0.12179045577742575,
          0.07184032623233444,
          -0.13337467487596935,
          -0.060404176946643934,
          -0.07672413658579842,
          0.2953492777585514,
          0.15598298286505388,
          -0.019640982018270053,
          -0.02721573728540087,
          -0.004728325263452508,
          -0.02315994125289515,
          0.06468970917685024
         ],
         "yaxis": "y"
        }
       ],
       "layout": {
        "legend": {
         "title": {
          "text": "variable"
         },
         "tracegroupgap": 0
        },
        "margin": {
         "t": 60
        },
        "template": {
         "data": {
          "bar": [
           {
            "error_x": {
             "color": "#2a3f5f"
            },
            "error_y": {
             "color": "#2a3f5f"
            },
            "marker": {
             "line": {
              "color": "#E5ECF6",
              "width": 0.5
             }
            },
            "type": "bar"
           }
          ],
          "barpolar": [
           {
            "marker": {
             "line": {
              "color": "#E5ECF6",
              "width": 0.5
             }
            },
            "type": "barpolar"
           }
          ],
          "carpet": [
           {
            "aaxis": {
             "endlinecolor": "#2a3f5f",
             "gridcolor": "white",
             "linecolor": "white",
             "minorgridcolor": "white",
             "startlinecolor": "#2a3f5f"
            },
            "baxis": {
             "endlinecolor": "#2a3f5f",
             "gridcolor": "white",
             "linecolor": "white",
             "minorgridcolor": "white",
             "startlinecolor": "#2a3f5f"
            },
            "type": "carpet"
           }
          ],
          "choropleth": [
           {
            "colorbar": {
             "outlinewidth": 0,
             "ticks": ""
            },
            "type": "choropleth"
           }
          ],
          "contour": [
           {
            "colorbar": {
             "outlinewidth": 0,
             "ticks": ""
            },
            "colorscale": [
             [
              0,
              "#0d0887"
             ],
             [
              0.1111111111111111,
              "#46039f"
             ],
             [
              0.2222222222222222,
              "#7201a8"
             ],
             [
              0.3333333333333333,
              "#9c179e"
             ],
             [
              0.4444444444444444,
              "#bd3786"
             ],
             [
              0.5555555555555556,
              "#d8576b"
             ],
             [
              0.6666666666666666,
              "#ed7953"
             ],
             [
              0.7777777777777778,
              "#fb9f3a"
             ],
             [
              0.8888888888888888,
              "#fdca26"
             ],
             [
              1,
              "#f0f921"
             ]
            ],
            "type": "contour"
           }
          ],
          "contourcarpet": [
           {
            "colorbar": {
             "outlinewidth": 0,
             "ticks": ""
            },
            "type": "contourcarpet"
           }
          ],
          "heatmap": [
           {
            "colorbar": {
             "outlinewidth": 0,
             "ticks": ""
            },
            "colorscale": [
             [
              0,
              "#0d0887"
             ],
             [
              0.1111111111111111,
              "#46039f"
             ],
             [
              0.2222222222222222,
              "#7201a8"
             ],
             [
              0.3333333333333333,
              "#9c179e"
             ],
             [
              0.4444444444444444,
              "#bd3786"
             ],
             [
              0.5555555555555556,
              "#d8576b"
             ],
             [
              0.6666666666666666,
              "#ed7953"
             ],
             [
              0.7777777777777778,
              "#fb9f3a"
             ],
             [
              0.8888888888888888,
              "#fdca26"
             ],
             [
              1,
              "#f0f921"
             ]
            ],
            "type": "heatmap"
           }
          ],
          "heatmapgl": [
           {
            "colorbar": {
             "outlinewidth": 0,
             "ticks": ""
            },
            "colorscale": [
             [
              0,
              "#0d0887"
             ],
             [
              0.1111111111111111,
              "#46039f"
             ],
             [
              0.2222222222222222,
              "#7201a8"
             ],
             [
              0.3333333333333333,
              "#9c179e"
             ],
             [
              0.4444444444444444,
              "#bd3786"
             ],
             [
              0.5555555555555556,
              "#d8576b"
             ],
             [
              0.6666666666666666,
              "#ed7953"
             ],
             [
              0.7777777777777778,
              "#fb9f3a"
             ],
             [
              0.8888888888888888,
              "#fdca26"
             ],
             [
              1,
              "#f0f921"
             ]
            ],
            "type": "heatmapgl"
           }
          ],
          "histogram": [
           {
            "marker": {
             "colorbar": {
              "outlinewidth": 0,
              "ticks": ""
             }
            },
            "type": "histogram"
           }
          ],
          "histogram2d": [
           {
            "colorbar": {
             "outlinewidth": 0,
             "ticks": ""
            },
            "colorscale": [
             [
              0,
              "#0d0887"
             ],
             [
              0.1111111111111111,
              "#46039f"
             ],
             [
              0.2222222222222222,
              "#7201a8"
             ],
             [
              0.3333333333333333,
              "#9c179e"
             ],
             [
              0.4444444444444444,
              "#bd3786"
             ],
             [
              0.5555555555555556,
              "#d8576b"
             ],
             [
              0.6666666666666666,
              "#ed7953"
             ],
             [
              0.7777777777777778,
              "#fb9f3a"
             ],
             [
              0.8888888888888888,
              "#fdca26"
             ],
             [
              1,
              "#f0f921"
             ]
            ],
            "type": "histogram2d"
           }
          ],
          "histogram2dcontour": [
           {
            "colorbar": {
             "outlinewidth": 0,
             "ticks": ""
            },
            "colorscale": [
             [
              0,
              "#0d0887"
             ],
             [
              0.1111111111111111,
              "#46039f"
             ],
             [
              0.2222222222222222,
              "#7201a8"
             ],
             [
              0.3333333333333333,
              "#9c179e"
             ],
             [
              0.4444444444444444,
              "#bd3786"
             ],
             [
              0.5555555555555556,
              "#d8576b"
             ],
             [
              0.6666666666666666,
              "#ed7953"
             ],
             [
              0.7777777777777778,
              "#fb9f3a"
             ],
             [
              0.8888888888888888,
              "#fdca26"
             ],
             [
              1,
              "#f0f921"
             ]
            ],
            "type": "histogram2dcontour"
           }
          ],
          "mesh3d": [
           {
            "colorbar": {
             "outlinewidth": 0,
             "ticks": ""
            },
            "type": "mesh3d"
           }
          ],
          "parcoords": [
           {
            "line": {
             "colorbar": {
              "outlinewidth": 0,
              "ticks": ""
             }
            },
            "type": "parcoords"
           }
          ],
          "pie": [
           {
            "automargin": true,
            "type": "pie"
           }
          ],
          "scatter": [
           {
            "marker": {
             "colorbar": {
              "outlinewidth": 0,
              "ticks": ""
             }
            },
            "type": "scatter"
           }
          ],
          "scatter3d": [
           {
            "line": {
             "colorbar": {
              "outlinewidth": 0,
              "ticks": ""
             }
            },
            "marker": {
             "colorbar": {
              "outlinewidth": 0,
              "ticks": ""
             }
            },
            "type": "scatter3d"
           }
          ],
          "scattercarpet": [
           {
            "marker": {
             "colorbar": {
              "outlinewidth": 0,
              "ticks": ""
             }
            },
            "type": "scattercarpet"
           }
          ],
          "scattergeo": [
           {
            "marker": {
             "colorbar": {
              "outlinewidth": 0,
              "ticks": ""
             }
            },
            "type": "scattergeo"
           }
          ],
          "scattergl": [
           {
            "marker": {
             "colorbar": {
              "outlinewidth": 0,
              "ticks": ""
             }
            },
            "type": "scattergl"
           }
          ],
          "scattermapbox": [
           {
            "marker": {
             "colorbar": {
              "outlinewidth": 0,
              "ticks": ""
             }
            },
            "type": "scattermapbox"
           }
          ],
          "scatterpolar": [
           {
            "marker": {
             "colorbar": {
              "outlinewidth": 0,
              "ticks": ""
             }
            },
            "type": "scatterpolar"
           }
          ],
          "scatterpolargl": [
           {
            "marker": {
             "colorbar": {
              "outlinewidth": 0,
              "ticks": ""
             }
            },
            "type": "scatterpolargl"
           }
          ],
          "scatterternary": [
           {
            "marker": {
             "colorbar": {
              "outlinewidth": 0,
              "ticks": ""
             }
            },
            "type": "scatterternary"
           }
          ],
          "surface": [
           {
            "colorbar": {
             "outlinewidth": 0,
             "ticks": ""
            },
            "colorscale": [
             [
              0,
              "#0d0887"
             ],
             [
              0.1111111111111111,
              "#46039f"
             ],
             [
              0.2222222222222222,
              "#7201a8"
             ],
             [
              0.3333333333333333,
              "#9c179e"
             ],
             [
              0.4444444444444444,
              "#bd3786"
             ],
             [
              0.5555555555555556,
              "#d8576b"
             ],
             [
              0.6666666666666666,
              "#ed7953"
             ],
             [
              0.7777777777777778,
              "#fb9f3a"
             ],
             [
              0.8888888888888888,
              "#fdca26"
             ],
             [
              1,
              "#f0f921"
             ]
            ],
            "type": "surface"
           }
          ],
          "table": [
           {
            "cells": {
             "fill": {
              "color": "#EBF0F8"
             },
             "line": {
              "color": "white"
             }
            },
            "header": {
             "fill": {
              "color": "#C8D4E3"
             },
             "line": {
              "color": "white"
             }
            },
            "type": "table"
           }
          ]
         },
         "layout": {
          "annotationdefaults": {
           "arrowcolor": "#2a3f5f",
           "arrowhead": 0,
           "arrowwidth": 1
          },
          "coloraxis": {
           "colorbar": {
            "outlinewidth": 0,
            "ticks": ""
           }
          },
          "colorscale": {
           "diverging": [
            [
             0,
             "#8e0152"
            ],
            [
             0.1,
             "#c51b7d"
            ],
            [
             0.2,
             "#de77ae"
            ],
            [
             0.3,
             "#f1b6da"
            ],
            [
             0.4,
             "#fde0ef"
            ],
            [
             0.5,
             "#f7f7f7"
            ],
            [
             0.6,
             "#e6f5d0"
            ],
            [
             0.7,
             "#b8e186"
            ],
            [
             0.8,
             "#7fbc41"
            ],
            [
             0.9,
             "#4d9221"
            ],
            [
             1,
             "#276419"
            ]
           ],
           "sequential": [
            [
             0,
             "#0d0887"
            ],
            [
             0.1111111111111111,
             "#46039f"
            ],
            [
             0.2222222222222222,
             "#7201a8"
            ],
            [
             0.3333333333333333,
             "#9c179e"
            ],
            [
             0.4444444444444444,
             "#bd3786"
            ],
            [
             0.5555555555555556,
             "#d8576b"
            ],
            [
             0.6666666666666666,
             "#ed7953"
            ],
            [
             0.7777777777777778,
             "#fb9f3a"
            ],
            [
             0.8888888888888888,
             "#fdca26"
            ],
            [
             1,
             "#f0f921"
            ]
           ],
           "sequentialminus": [
            [
             0,
             "#0d0887"
            ],
            [
             0.1111111111111111,
             "#46039f"
            ],
            [
             0.2222222222222222,
             "#7201a8"
            ],
            [
             0.3333333333333333,
             "#9c179e"
            ],
            [
             0.4444444444444444,
             "#bd3786"
            ],
            [
             0.5555555555555556,
             "#d8576b"
            ],
            [
             0.6666666666666666,
             "#ed7953"
            ],
            [
             0.7777777777777778,
             "#fb9f3a"
            ],
            [
             0.8888888888888888,
             "#fdca26"
            ],
            [
             1,
             "#f0f921"
            ]
           ]
          },
          "colorway": [
           "#636efa",
           "#EF553B",
           "#00cc96",
           "#ab63fa",
           "#FFA15A",
           "#19d3f3",
           "#FF6692",
           "#B6E880",
           "#FF97FF",
           "#FECB52"
          ],
          "font": {
           "color": "#2a3f5f"
          },
          "geo": {
           "bgcolor": "white",
           "lakecolor": "white",
           "landcolor": "#E5ECF6",
           "showlakes": true,
           "showland": true,
           "subunitcolor": "white"
          },
          "hoverlabel": {
           "align": "left"
          },
          "hovermode": "closest",
          "mapbox": {
           "style": "light"
          },
          "paper_bgcolor": "white",
          "plot_bgcolor": "#E5ECF6",
          "polar": {
           "angularaxis": {
            "gridcolor": "white",
            "linecolor": "white",
            "ticks": ""
           },
           "bgcolor": "#E5ECF6",
           "radialaxis": {
            "gridcolor": "white",
            "linecolor": "white",
            "ticks": ""
           }
          },
          "scene": {
           "xaxis": {
            "backgroundcolor": "#E5ECF6",
            "gridcolor": "white",
            "gridwidth": 2,
            "linecolor": "white",
            "showbackground": true,
            "ticks": "",
            "zerolinecolor": "white"
           },
           "yaxis": {
            "backgroundcolor": "#E5ECF6",
            "gridcolor": "white",
            "gridwidth": 2,
            "linecolor": "white",
            "showbackground": true,
            "ticks": "",
            "zerolinecolor": "white"
           },
           "zaxis": {
            "backgroundcolor": "#E5ECF6",
            "gridcolor": "white",
            "gridwidth": 2,
            "linecolor": "white",
            "showbackground": true,
            "ticks": "",
            "zerolinecolor": "white"
           }
          },
          "shapedefaults": {
           "line": {
            "color": "#2a3f5f"
           }
          },
          "ternary": {
           "aaxis": {
            "gridcolor": "white",
            "linecolor": "white",
            "ticks": ""
           },
           "baxis": {
            "gridcolor": "white",
            "linecolor": "white",
            "ticks": ""
           },
           "bgcolor": "#E5ECF6",
           "caxis": {
            "gridcolor": "white",
            "linecolor": "white",
            "ticks": ""
           }
          },
          "title": {
           "x": 0.05
          },
          "xaxis": {
           "automargin": true,
           "gridcolor": "white",
           "linecolor": "white",
           "ticks": "",
           "title": {
            "standoff": 15
           },
           "zerolinecolor": "white",
           "zerolinewidth": 2
          },
          "yaxis": {
           "automargin": true,
           "gridcolor": "white",
           "linecolor": "white",
           "ticks": "",
           "title": {
            "standoff": 15
           },
           "zerolinecolor": "white",
           "zerolinewidth": 2
          }
         }
        },
        "xaxis": {
         "anchor": "y",
         "domain": [
          0,
          1
         ],
         "title": {
          "text": "Year"
         }
        },
        "yaxis": {
         "anchor": "x",
         "domain": [
          0,
          1
         ],
         "title": {
          "text": "value"
         }
        }
       }
      },
      "text/html": [
       "<div>\n",
       "        \n",
       "        \n",
       "            <div id=\"5cc9bff8-64a1-4e51-a354-8ba862606f51\" class=\"plotly-graph-div\" style=\"height:525px; width:100%;\"></div>\n",
       "            <script type=\"text/javascript\">\n",
       "                require([\"plotly\"], function(Plotly) {\n",
       "                    window.PLOTLYENV=window.PLOTLYENV || {};\n",
       "                    \n",
       "                if (document.getElementById(\"5cc9bff8-64a1-4e51-a354-8ba862606f51\")) {\n",
       "                    Plotly.newPlot(\n",
       "                        '5cc9bff8-64a1-4e51-a354-8ba862606f51',\n",
       "                        [{\"hovertemplate\": \"variable=Primal<br>Year=%{x}<br>value=%{y}<extra></extra>\", \"legendgroup\": \"Primal\", \"line\": {\"color\": \"#636efa\", \"dash\": \"solid\"}, \"mode\": \"lines\", \"name\": \"Primal\", \"orientation\": \"v\", \"showlegend\": true, \"type\": \"scatter\", \"x\": [1993, 1994, 1995, 1996, 1997, 1998, 1999, 2000, 2001, 2002, 2003, 2004, 2005, 2006, 2007, 2008, 2010, 2011, 2012, 2013, 2014, 2015, 2016, 2017, 2018], \"xaxis\": \"x\", \"y\": [0.04524283612227403, 0.11784683243706276, 0.03416357914800795, 0.07676640853815503, 0.08815921371449943, 0.010967958036626223, -0.25782318894522327, -0.006453515701662874, 0.06806330897467039, 0.02121962719505506, -0.01716425474775591, -0.29131346368988953, 0.24379157083444442, -0.014947391506336956, -0.02334194091079582, -0.4791221339314768, 0.05016181874664988, 0.03719945046087587, 0.017623131306012483, 0.072055075254144, -0.07133348791744706, -0.06129055088214909, -0.006223512433186838, -0.04509695408937357, 0.043615069056086364], \"yaxis\": \"y\"}, {\"hovertemplate\": \"variable=Dual<br>Year=%{x}<br>value=%{y}<extra></extra>\", \"legendgroup\": \"Dual\", \"line\": {\"color\": \"#EF553B\", \"dash\": \"solid\"}, \"mode\": \"lines\", \"name\": \"Dual\", \"orientation\": \"v\", \"showlegend\": true, \"type\": \"scatter\", \"x\": [1993, 1994, 1995, 1996, 1997, 1998, 1999, 2000, 2001, 2002, 2003, 2004, 2005, 2006, 2007, 2008, 2010, 2011, 2012, 2013, 2014, 2015, 2016, 2017, 2018], \"xaxis\": \"x\", \"y\": [0.014834643586589077, -0.01652996595602772, -0.027861009152327285, 0.12629642216865042, 0.0324902149911729, -0.13627435148973496, -0.08410678841979248, 0.02040440518125783, -0.018983770811343358, 0.0963807848512784, -0.036331083743829914, -0.1354155912576934, 0.6901857322530075, 0.12179045577742575, 0.07184032623233444, -0.13337467487596935, -0.060404176946643934, -0.07672413658579842, 0.2953492777585514, 0.15598298286505388, -0.019640982018270053, -0.02721573728540087, -0.004728325263452508, -0.02315994125289515, 0.06468970917685024], \"yaxis\": \"y\"}],\n",
       "                        {\"legend\": {\"title\": {\"text\": \"variable\"}, \"tracegroupgap\": 0}, \"margin\": {\"t\": 60}, \"template\": {\"data\": {\"bar\": [{\"error_x\": {\"color\": \"#2a3f5f\"}, \"error_y\": {\"color\": \"#2a3f5f\"}, \"marker\": {\"line\": {\"color\": \"#E5ECF6\", \"width\": 0.5}}, \"type\": \"bar\"}], \"barpolar\": [{\"marker\": {\"line\": {\"color\": \"#E5ECF6\", \"width\": 0.5}}, \"type\": \"barpolar\"}], \"carpet\": [{\"aaxis\": {\"endlinecolor\": \"#2a3f5f\", \"gridcolor\": \"white\", \"linecolor\": \"white\", \"minorgridcolor\": \"white\", \"startlinecolor\": \"#2a3f5f\"}, \"baxis\": {\"endlinecolor\": \"#2a3f5f\", \"gridcolor\": \"white\", \"linecolor\": \"white\", \"minorgridcolor\": \"white\", \"startlinecolor\": \"#2a3f5f\"}, \"type\": \"carpet\"}], \"choropleth\": [{\"colorbar\": {\"outlinewidth\": 0, \"ticks\": \"\"}, \"type\": \"choropleth\"}], \"contour\": [{\"colorbar\": {\"outlinewidth\": 0, \"ticks\": \"\"}, \"colorscale\": [[0.0, \"#0d0887\"], [0.1111111111111111, \"#46039f\"], [0.2222222222222222, \"#7201a8\"], [0.3333333333333333, \"#9c179e\"], [0.4444444444444444, \"#bd3786\"], [0.5555555555555556, \"#d8576b\"], [0.6666666666666666, \"#ed7953\"], [0.7777777777777778, \"#fb9f3a\"], [0.8888888888888888, \"#fdca26\"], [1.0, \"#f0f921\"]], \"type\": \"contour\"}], \"contourcarpet\": [{\"colorbar\": {\"outlinewidth\": 0, \"ticks\": \"\"}, \"type\": \"contourcarpet\"}], \"heatmap\": [{\"colorbar\": {\"outlinewidth\": 0, \"ticks\": \"\"}, \"colorscale\": [[0.0, \"#0d0887\"], [0.1111111111111111, \"#46039f\"], [0.2222222222222222, \"#7201a8\"], [0.3333333333333333, \"#9c179e\"], [0.4444444444444444, \"#bd3786\"], [0.5555555555555556, \"#d8576b\"], [0.6666666666666666, \"#ed7953\"], [0.7777777777777778, \"#fb9f3a\"], [0.8888888888888888, \"#fdca26\"], [1.0, \"#f0f921\"]], \"type\": \"heatmap\"}], \"heatmapgl\": [{\"colorbar\": {\"outlinewidth\": 0, \"ticks\": \"\"}, \"colorscale\": [[0.0, \"#0d0887\"], [0.1111111111111111, \"#46039f\"], [0.2222222222222222, \"#7201a8\"], [0.3333333333333333, \"#9c179e\"], [0.4444444444444444, \"#bd3786\"], [0.5555555555555556, \"#d8576b\"], [0.6666666666666666, \"#ed7953\"], [0.7777777777777778, \"#fb9f3a\"], [0.8888888888888888, \"#fdca26\"], [1.0, \"#f0f921\"]], \"type\": \"heatmapgl\"}], \"histogram\": [{\"marker\": {\"colorbar\": {\"outlinewidth\": 0, \"ticks\": \"\"}}, \"type\": \"histogram\"}], \"histogram2d\": [{\"colorbar\": {\"outlinewidth\": 0, \"ticks\": \"\"}, \"colorscale\": [[0.0, \"#0d0887\"], [0.1111111111111111, \"#46039f\"], [0.2222222222222222, \"#7201a8\"], [0.3333333333333333, \"#9c179e\"], [0.4444444444444444, \"#bd3786\"], [0.5555555555555556, \"#d8576b\"], [0.6666666666666666, \"#ed7953\"], [0.7777777777777778, \"#fb9f3a\"], [0.8888888888888888, \"#fdca26\"], [1.0, \"#f0f921\"]], \"type\": \"histogram2d\"}], \"histogram2dcontour\": [{\"colorbar\": {\"outlinewidth\": 0, \"ticks\": \"\"}, \"colorscale\": [[0.0, \"#0d0887\"], [0.1111111111111111, \"#46039f\"], [0.2222222222222222, \"#7201a8\"], [0.3333333333333333, \"#9c179e\"], [0.4444444444444444, \"#bd3786\"], [0.5555555555555556, \"#d8576b\"], [0.6666666666666666, \"#ed7953\"], [0.7777777777777778, \"#fb9f3a\"], [0.8888888888888888, \"#fdca26\"], [1.0, \"#f0f921\"]], \"type\": \"histogram2dcontour\"}], \"mesh3d\": [{\"colorbar\": {\"outlinewidth\": 0, \"ticks\": \"\"}, \"type\": \"mesh3d\"}], \"parcoords\": [{\"line\": {\"colorbar\": {\"outlinewidth\": 0, \"ticks\": \"\"}}, \"type\": \"parcoords\"}], \"pie\": [{\"automargin\": true, \"type\": \"pie\"}], \"scatter\": [{\"marker\": {\"colorbar\": {\"outlinewidth\": 0, \"ticks\": \"\"}}, \"type\": \"scatter\"}], \"scatter3d\": [{\"line\": {\"colorbar\": {\"outlinewidth\": 0, \"ticks\": \"\"}}, \"marker\": {\"colorbar\": {\"outlinewidth\": 0, \"ticks\": \"\"}}, \"type\": \"scatter3d\"}], \"scattercarpet\": [{\"marker\": {\"colorbar\": {\"outlinewidth\": 0, \"ticks\": \"\"}}, \"type\": \"scattercarpet\"}], \"scattergeo\": [{\"marker\": {\"colorbar\": {\"outlinewidth\": 0, \"ticks\": \"\"}}, \"type\": \"scattergeo\"}], \"scattergl\": [{\"marker\": {\"colorbar\": {\"outlinewidth\": 0, \"ticks\": \"\"}}, \"type\": \"scattergl\"}], \"scattermapbox\": [{\"marker\": {\"colorbar\": {\"outlinewidth\": 0, \"ticks\": \"\"}}, \"type\": \"scattermapbox\"}], \"scatterpolar\": [{\"marker\": {\"colorbar\": {\"outlinewidth\": 0, \"ticks\": \"\"}}, \"type\": \"scatterpolar\"}], \"scatterpolargl\": [{\"marker\": {\"colorbar\": {\"outlinewidth\": 0, \"ticks\": \"\"}}, \"type\": \"scatterpolargl\"}], \"scatterternary\": [{\"marker\": {\"colorbar\": {\"outlinewidth\": 0, \"ticks\": \"\"}}, \"type\": \"scatterternary\"}], \"surface\": [{\"colorbar\": {\"outlinewidth\": 0, \"ticks\": \"\"}, \"colorscale\": [[0.0, \"#0d0887\"], [0.1111111111111111, \"#46039f\"], [0.2222222222222222, \"#7201a8\"], [0.3333333333333333, \"#9c179e\"], [0.4444444444444444, \"#bd3786\"], [0.5555555555555556, \"#d8576b\"], [0.6666666666666666, \"#ed7953\"], [0.7777777777777778, \"#fb9f3a\"], [0.8888888888888888, \"#fdca26\"], [1.0, \"#f0f921\"]], \"type\": \"surface\"}], \"table\": [{\"cells\": {\"fill\": {\"color\": \"#EBF0F8\"}, \"line\": {\"color\": \"white\"}}, \"header\": {\"fill\": {\"color\": \"#C8D4E3\"}, \"line\": {\"color\": \"white\"}}, \"type\": \"table\"}]}, \"layout\": {\"annotationdefaults\": {\"arrowcolor\": \"#2a3f5f\", \"arrowhead\": 0, \"arrowwidth\": 1}, \"coloraxis\": {\"colorbar\": {\"outlinewidth\": 0, \"ticks\": \"\"}}, \"colorscale\": {\"diverging\": [[0, \"#8e0152\"], [0.1, \"#c51b7d\"], [0.2, \"#de77ae\"], [0.3, \"#f1b6da\"], [0.4, \"#fde0ef\"], [0.5, \"#f7f7f7\"], [0.6, \"#e6f5d0\"], [0.7, \"#b8e186\"], [0.8, \"#7fbc41\"], [0.9, \"#4d9221\"], [1, \"#276419\"]], \"sequential\": [[0.0, \"#0d0887\"], [0.1111111111111111, \"#46039f\"], [0.2222222222222222, \"#7201a8\"], [0.3333333333333333, \"#9c179e\"], [0.4444444444444444, \"#bd3786\"], [0.5555555555555556, \"#d8576b\"], [0.6666666666666666, \"#ed7953\"], [0.7777777777777778, \"#fb9f3a\"], [0.8888888888888888, \"#fdca26\"], [1.0, \"#f0f921\"]], \"sequentialminus\": [[0.0, \"#0d0887\"], [0.1111111111111111, \"#46039f\"], [0.2222222222222222, \"#7201a8\"], [0.3333333333333333, \"#9c179e\"], [0.4444444444444444, \"#bd3786\"], [0.5555555555555556, \"#d8576b\"], [0.6666666666666666, \"#ed7953\"], [0.7777777777777778, \"#fb9f3a\"], [0.8888888888888888, \"#fdca26\"], [1.0, \"#f0f921\"]]}, \"colorway\": [\"#636efa\", \"#EF553B\", \"#00cc96\", \"#ab63fa\", \"#FFA15A\", \"#19d3f3\", \"#FF6692\", \"#B6E880\", \"#FF97FF\", \"#FECB52\"], \"font\": {\"color\": \"#2a3f5f\"}, \"geo\": {\"bgcolor\": \"white\", \"lakecolor\": \"white\", \"landcolor\": \"#E5ECF6\", \"showlakes\": true, \"showland\": true, \"subunitcolor\": \"white\"}, \"hoverlabel\": {\"align\": \"left\"}, \"hovermode\": \"closest\", \"mapbox\": {\"style\": \"light\"}, \"paper_bgcolor\": \"white\", \"plot_bgcolor\": \"#E5ECF6\", \"polar\": {\"angularaxis\": {\"gridcolor\": \"white\", \"linecolor\": \"white\", \"ticks\": \"\"}, \"bgcolor\": \"#E5ECF6\", \"radialaxis\": {\"gridcolor\": \"white\", \"linecolor\": \"white\", \"ticks\": \"\"}}, \"scene\": {\"xaxis\": {\"backgroundcolor\": \"#E5ECF6\", \"gridcolor\": \"white\", \"gridwidth\": 2, \"linecolor\": \"white\", \"showbackground\": true, \"ticks\": \"\", \"zerolinecolor\": \"white\"}, \"yaxis\": {\"backgroundcolor\": \"#E5ECF6\", \"gridcolor\": \"white\", \"gridwidth\": 2, \"linecolor\": \"white\", \"showbackground\": true, \"ticks\": \"\", \"zerolinecolor\": \"white\"}, \"zaxis\": {\"backgroundcolor\": \"#E5ECF6\", \"gridcolor\": \"white\", \"gridwidth\": 2, \"linecolor\": \"white\", \"showbackground\": true, \"ticks\": \"\", \"zerolinecolor\": \"white\"}}, \"shapedefaults\": {\"line\": {\"color\": \"#2a3f5f\"}}, \"ternary\": {\"aaxis\": {\"gridcolor\": \"white\", \"linecolor\": \"white\", \"ticks\": \"\"}, \"baxis\": {\"gridcolor\": \"white\", \"linecolor\": \"white\", \"ticks\": \"\"}, \"bgcolor\": \"#E5ECF6\", \"caxis\": {\"gridcolor\": \"white\", \"linecolor\": \"white\", \"ticks\": \"\"}}, \"title\": {\"x\": 0.05}, \"xaxis\": {\"automargin\": true, \"gridcolor\": \"white\", \"linecolor\": \"white\", \"ticks\": \"\", \"title\": {\"standoff\": 15}, \"zerolinecolor\": \"white\", \"zerolinewidth\": 2}, \"yaxis\": {\"automargin\": true, \"gridcolor\": \"white\", \"linecolor\": \"white\", \"ticks\": \"\", \"title\": {\"standoff\": 15}, \"zerolinecolor\": \"white\", \"zerolinewidth\": 2}}}, \"xaxis\": {\"anchor\": \"y\", \"domain\": [0.0, 1.0], \"title\": {\"text\": \"Year\"}}, \"yaxis\": {\"anchor\": \"x\", \"domain\": [0.0, 1.0], \"title\": {\"text\": \"value\"}}},\n",
       "                        {\"responsive\": true}\n",
       "                    ).then(function(){\n",
       "                            \n",
       "var gd = document.getElementById('5cc9bff8-64a1-4e51-a354-8ba862606f51');\n",
       "var x = new MutationObserver(function (mutations, observer) {{\n",
       "        var display = window.getComputedStyle(gd).display;\n",
       "        if (!display || display === 'none') {{\n",
       "            console.log([gd, 'removed!']);\n",
       "            Plotly.purge(gd);\n",
       "            observer.disconnect();\n",
       "        }}\n",
       "}});\n",
       "\n",
       "// Listen for the removal of the full notebook cells\n",
       "var notebookContainer = gd.closest('#notebook-container');\n",
       "if (notebookContainer) {{\n",
       "    x.observe(notebookContainer, {childList: true});\n",
       "}}\n",
       "\n",
       "// Listen for the clearing of the current output cell\n",
       "var outputEl = gd.closest('.output');\n",
       "if (outputEl) {{\n",
       "    x.observe(outputEl, {childList: true});\n",
       "}}\n",
       "\n",
       "                        })\n",
       "                };\n",
       "                });\n",
       "            </script>\n",
       "        </div>"
      ]
     },
     "metadata": {},
     "output_type": "display_data"
    }
   ],
   "source": [
    "px.line(tfpg.reset_index().melt(id_vars='Year'), x='Year', y='value', color='variable')"
   ]
  },
  {
   "cell_type": "code",
   "execution_count": null,
   "metadata": {},
   "outputs": [],
   "source": []
  }
 ],
 "metadata": {
  "kernelspec": {
   "display_name": "Python 3",
   "language": "python",
   "name": "python3"
  },
  "language_info": {
   "codemirror_mode": {
    "name": "ipython",
    "version": 3
   },
   "file_extension": ".py",
   "mimetype": "text/x-python",
   "name": "python",
   "nbconvert_exporter": "python",
   "pygments_lexer": "ipython3",
   "version": "3.8.3"
  }
 },
 "nbformat": 4,
 "nbformat_minor": 4
}
